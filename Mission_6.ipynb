{
  "cells": [
    {
      "attachments": {},
      "cell_type": "markdown",
      "metadata": {
        "id": "5jJuIUKngWZs"
      },
      "source": [
        "# Домашнее задание\n",
        ">отбой по квантовым вычислениям, это ужас какой-то, везде отсутствует доступ из России.\n",
        ">\n",
        ">тогда задание такое:\n",
        ">1. взять датасет из открытого доступа.\n",
        ">2. исследовать его свойства и характеристики.\n",
        ">3. применить различные модели машинного обучения.\n",
        ">4. сделать выводы по работе.\n",
        ">\n",
        ">тут прикапываться к точности модели не буду вообще, главное - показать что какое-то понимание имеется и есть попытки самостоятельно что -то сделать новое."
      ]
    },
    {
      "attachments": {},
      "cell_type": "markdown",
      "metadata": {
        "id": "PBxgFiWLgir4"
      },
      "source": [
        "Задача, которую мы будем решать - преобразование градусов Цельсия в градусы Фаренгейта. Формула преобразования выглядит следующим образом:\n",
        "\n",
        "$$ f = c \\times 1.8 + 32 $$\n",
        "\n",
        "Будем использовать два датасета. У нас будут входные значения градусов Цельсия (0, 8, 15, 22, 38) и их соответствующие градусы по Фаренгейту (32, 46, 59, 72, 100). Затем мы натренируем модель таким образом, чтобы та примерно соответствовала приведённой выше формуле."
      ]
    },
    {
      "attachments": {},
      "cell_type": "markdown",
      "metadata": {
        "id": "sSrQQgSwh9n3"
      },
      "source": [
        "# Импорт зависимостей"
      ]
    },
    {
      "attachments": {},
      "cell_type": "markdown",
      "metadata": {
        "id": "HC0y9JVAiTO_"
      },
      "source": [
        "Первым делом импортируем TensorFlow и NumPy. Мы так же настраиваем уровень логгирования - только ошибки."
      ]
    },
    {
      "cell_type": "code",
      "execution_count": null,
      "metadata": {
        "id": "_FYdsC-ri0iW",
        "vscode": {
          "languageId": "python"
        }
      },
      "outputs": [],
      "source": [
        "from __future__ import absolute_import, division, print_function, unicode_literals\n",
        "import tensorflow as tf\n",
        "tf.logging.set_verbosity(tf.logging.ERROR)\n",
        "\n",
        "import numpy as np"
      ]
    },
    {
      "attachments": {},
      "cell_type": "markdown",
      "metadata": {
        "id": "RDBH8oapjKX0"
      },
      "source": [
        "# Подготовим данные для тренировки"
      ]
    },
    {
      "cell_type": "code",
      "execution_count": null,
      "metadata": {
        "colab": {
          "base_uri": "https://localhost:8080/",
          "height": 146
        },
        "id": "JZpo2gJFkFNb",
        "outputId": "fbfd1598-b51f-4eaf-b4d9-db0ca8405039",
        "vscode": {
          "languageId": "python"
        }
      },
      "outputs": [
        {
          "name": "stdout",
          "output_type": "stream",
          "text": [
            "-40.0 градусов Цельсия = -40.0 градусов Фаренгейта\n",
            "-10.0 градусов Цельсия = 14.0 градусов Фаренгейта\n",
            "0.0 градусов Цельсия = 32.0 градусов Фаренгейта\n",
            "8.0 градусов Цельсия = 46.0 градусов Фаренгейта\n",
            "15.0 градусов Цельсия = 59.0 градусов Фаренгейта\n",
            "22.0 градусов Цельсия = 72.0 градусов Фаренгейта\n",
            "38.0 градусов Цельсия = 100.0 градусов Фаренгейта\n"
          ]
        }
      ],
      "source": [
        "celsius_q    = np.array([-40, -10, 0, 8, 15, 22, 38], dtype=float)\n",
        "fahrenheit_a = np.array([-40, 14, 32, 46, 59, 72, 100], dtype=float)\n",
        "\n",
        "for i,c in enumerate(celsius_q):\n",
        "  print(\"{} градусов Цельсия = {} градусов Фаренгейта\".format(c, fahrenheit_a[i]))"
      ]
    },
    {
      "attachments": {},
      "cell_type": "markdown",
      "metadata": {
        "id": "y6f1arb6lBjy"
      },
      "source": [
        "# Создаём модель"
      ]
    },
    {
      "attachments": {},
      "cell_type": "markdown",
      "metadata": {
        "id": "BdjvHCZLmCo8"
      },
      "source": [
        "Задача достаточно простая - сеть будет состоять из единственного слоя с единственным нейроном. "
      ]
    },
    {
      "attachments": {},
      "cell_type": "markdown",
      "metadata": {
        "id": "o3WatarXnNIH"
      },
      "source": [
        "**Строим сеть**\n",
        "\n",
        "Мы назовём слой `l0` (**l**ayer и ноль) и создадим его, инициализировав `tf.keras.layers.Dense` со следующими параметрами:\n",
        "\n",
        "* `input_shape=[1]` - определяет размерность входного параметра - единичное значение. Массив размером $ 1 \\times 1 $ с единственным значением. Так как это первый (и единственный) слой, то и размерность входных данных соответствует размерности всей модели. Единственное значение - значение с плавающей запятой, представляющее градусы Цельсия.\n",
        "\n",
        "* `units=1` - определяет количество нейронов в слое."
      ]
    },
    {
      "cell_type": "code",
      "execution_count": null,
      "metadata": {
        "id": "rEl0XZP_qID-",
        "vscode": {
          "languageId": "python"
        }
      },
      "outputs": [],
      "source": [
        "l0 = tf.keras.layers.Dense(units=1, input_shape=[1])"
      ]
    },
    {
      "attachments": {},
      "cell_type": "markdown",
      "metadata": {
        "id": "kk-U2bY4qQGF"
      },
      "source": [
        "### Преобразуем слои в модель"
      ]
    },
    {
      "attachments": {},
      "cell_type": "markdown",
      "metadata": {
        "id": "gijN_UwhqVEY"
      },
      "source": [
        "`Sequential`-модель принимает в качестве аргументов перечень слоёв в том порядке в котором их необходимо применять - от входного значения до выходного значения.\n",
        "\n",
        "У нашей модели всего один слой - `l0`."
      ]
    },
    {
      "cell_type": "code",
      "execution_count": null,
      "metadata": {
        "id": "nAkvAYcmq9l7",
        "vscode": {
          "languageId": "python"
        }
      },
      "outputs": [],
      "source": [
        "model = tf.keras.Sequential([l0])"
      ]
    },
    {
      "attachments": {},
      "cell_type": "markdown",
      "metadata": {
        "id": "b60kVhLdrt_-"
      },
      "source": [
        "## Компилируем модель с функцией потерь и оптимизаций"
      ]
    },
    {
      "attachments": {},
      "cell_type": "markdown",
      "metadata": {
        "id": "cDejLj7dr3bv"
      },
      "source": [
        "Перед тренировкой модель должна быть скомпилирована (собрана). При компиляции для тренировки необходимы:\n",
        "\n",
        "* **функция потерь** - способ измерения того, насколько далеко предсказываемое значение от желаемого выходного значения (измеримая разница называется \"потерей\").\n",
        "\n",
        "* **функция оптимизации** - способ корректировки внутренних переменных для уменьшения потерь."
      ]
    },
    {
      "cell_type": "code",
      "execution_count": null,
      "metadata": {
        "id": "1Q4YEr_QtAjH",
        "vscode": {
          "languageId": "python"
        }
      },
      "outputs": [],
      "source": [
        "model.compile(loss='mean_squared_error',\n",
        "              optimizer=tf.keras.optimizers.Adam(0.1))"
      ]
    },
    {
      "attachments": {},
      "cell_type": "markdown",
      "metadata": {
        "id": "qYmkC8zFtOxi"
      },
      "source": [
        "Функция потерь - среднеквадратичная ошибка.\n",
        "Функция оптимизации - Adam.\n",
        "Коэффициент скорости обучения (learning rate) равен `0.1`."
      ]
    },
    {
      "attachments": {},
      "cell_type": "markdown",
      "metadata": {
        "id": "NR9jCSBnyE3P"
      },
      "source": [
        "### Тренируем модель\n",
        "\n",
        "Этот цикл вычислений, сравнений и корректировки контролируется внутри метода `fit`. Первый аргумент - входные значения, второй аргумент - желаемые выходные значения. Аргумент `epochs` определяет какое количество раз этот обучающий цикл должен быть выполнен. Аргумент `verbose` контролирует уровень логгирования."
      ]
    },
    {
      "cell_type": "code",
      "execution_count": null,
      "metadata": {
        "colab": {
          "base_uri": "https://localhost:8080/",
          "height": 35
        },
        "id": "jjjlpTew0NN6",
        "outputId": "de705c00-d56d-462f-b87c-5cb66baa46cf",
        "vscode": {
          "languageId": "python"
        }
      },
      "outputs": [
        {
          "name": "stdout",
          "output_type": "stream",
          "text": [
            "Завершили тренировку модели\n"
          ]
        }
      ],
      "source": [
        "history = model.fit(celsius_q, fahrenheit_a, epochs=500, verbose=False)\n",
        "print(\"Завершили тренировку модели\")"
      ]
    },
    {
      "attachments": {},
      "cell_type": "markdown",
      "metadata": {
        "id": "cawrKuUo0p2M"
      },
      "source": [
        "### Отображаем статистику тренировок\n",
        "\n",
        "Для визуализации воспользуемся `Matplotlib`. Мы можем наблюдать что наша модель улучшается очень быстро в самом начале, а затем приходит к стабильному и медленному улучшению до тех пор, пока результаты не становятся \"около\"-идеальными в самом конце обучения."
      ]
    },
    {
      "cell_type": "code",
      "execution_count": null,
      "metadata": {
        "colab": {
          "base_uri": "https://localhost:8080/",
          "height": 301
        },
        "id": "2iwLL8a-13dM",
        "outputId": "88bdc6ec-d0be-4a1e-e94c-286abd79eef8",
        "vscode": {
          "languageId": "python"
        }
      },
      "outputs": [
        {
          "data": {
            "text/plain": [
              "[<matplotlib.lines.Line2D at 0x7facff9b90f0>]"
            ]
          },
          "execution_count": 7,
          "metadata": {
            "tags": []
          },
          "output_type": "execute_result"
        },
        {
          "data": {
            "image/png": "[encoded data removed]",
            "text/plain": [
              "<Figure size 432x288 with 1 Axes>"
            ]
          },
          "metadata": {
            "tags": []
          },
          "output_type": "display_data"
        }
      ],
      "source": [
        "import matplotlib.pyplot as plt\n",
        "plt.xlabel('Epoch')\n",
        "plt.ylabel('Loss')\n",
        "plt.plot(history.history['loss'])"
      ]
    },
    {
      "attachments": {},
      "cell_type": "markdown",
      "metadata": {
        "id": "Zh7gmlf22JTj"
      },
      "source": [
        "### Используем модель для предсказаний\n",
        "\n",
        "Теперь у нас есть модель, которая была обучена на входных значениях `celsius_q` и выходных значениях `fahrenheit_a` для определения взаимосвязи между ними. Мы можем воспользоваться методом предсказания для вычисления тех значений градусов Фаренгейта по которым ранее нам неизвестны были соответствующие градусы Цельсия.\n",
        "\n",
        "Например, сколько будет `100.0` градусов Цельсия по Фаренгейту."
      ]
    },
    {
      "cell_type": "code",
      "execution_count": null,
      "metadata": {
        "colab": {
          "base_uri": "https://localhost:8080/",
          "height": 35
        },
        "id": "6yD6WPer63B6",
        "outputId": "e297c37a-3dfa-4c08-8571-0d3fa0895568",
        "vscode": {
          "languageId": "python"
        }
      },
      "outputs": [
        {
          "name": "stdout",
          "output_type": "stream",
          "text": [
            "[[211.33786]]\n"
          ]
        }
      ],
      "source": [
        "print(model.predict([100.0]))"
      ]
    },
    {
      "attachments": {},
      "cell_type": "markdown",
      "metadata": {
        "id": "b08TSETg69GU"
      },
      "source": [
        "Правильный ответ $100 \\times 1.8 + 32 = 212$."
      ]
    },
    {
      "attachments": {},
      "cell_type": "markdown",
      "metadata": {
        "id": "ubHjp42G7H4I"
      },
      "source": [
        "### Ревью\n",
        "\n",
        "* Мы создали модель с использованием Dense-слоя\n",
        "* Мы обучили её на 3500 примерах (7 пар значений, 500 обучающих итераций)\n",
        "\n",
        "Наша модель подогнала значения внутренних переменных (весов) в Dense-слое таким образом, чтобы возвращать правильные значения градусов Фаренгейта на произвольное входное значение градусов Цельсия. "
      ]
    }
  ],
  "metadata": {
    "colab": {
      "provenance": [],
      "toc_visible": true
    },
    "kernelspec": {
      "display_name": "Python 3",
      "name": "python3"
    }
  },
  "nbformat": 4,
  "nbformat_minor": 0
}
