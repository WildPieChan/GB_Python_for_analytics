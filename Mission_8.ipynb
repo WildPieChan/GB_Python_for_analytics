{
 "cells": [
  {
   "cell_type": "markdown",
   "metadata": {
    "id": "jhD2tnPxLIvz"
   },
   "source": [
    "## Импорт данных"
   ]
  },
  {
   "cell_type": "code",
   "execution_count": 1,
   "metadata": {
    "id": "hPUt4LQ72UEN"
   },
   "outputs": [],
   "source": [
    "from tensorflow.keras.datasets import cifar10"
   ]
  },
  {
   "cell_type": "code",
   "execution_count": 2,
   "metadata": {
    "colab": {
     "base_uri": "https://localhost:8080/"
    },
    "id": "We5qbDJD2rSt",
    "outputId": "81bd8980-c64e-4519-82e4-0e49f52178be"
   },
   "outputs": [],
   "source": [
    "(x_train, y_train), (x_test, y_test)=cifar10.load_data()"
   ]
  },
  {
   "cell_type": "code",
   "execution_count": 3,
   "metadata": {
    "colab": {
     "base_uri": "https://localhost:8080/"
    },
    "id": "yWWYuMMg4TP1",
    "outputId": "15bb2d85-dd44-4071-d575-57a38a8f09d5"
   },
   "outputs": [
    {
     "name": "stdout",
     "output_type": "stream",
     "text": [
      "Shape of x_train is (50000, 32, 32, 3)\n",
      "Shape of x_test is (10000, 32, 32, 3)\n",
      "Shape of y_train is (50000, 1)\n",
      "Shape of y_test is (10000, 1)\n"
     ]
    }
   ],
   "source": [
    "print('Shape of x_train is {}'.format(x_train.shape))\n",
    "print('Shape of x_test is {}'.format(x_test.shape)) \n",
    "print('Shape of y_train is {}'.format(y_train.shape))\n",
    "print('Shape of y_test is {}'.format(y_test.shape))"
   ]
  },
  {
   "cell_type": "markdown",
   "metadata": {
    "id": "NooaCt-VLVUQ"
   },
   "source": [
    "## Нормализация и создание фиктивных переменных (One-hot-encoding)"
   ]
  },
  {
   "cell_type": "code",
   "execution_count": 4,
   "metadata": {
    "id": "6tXEtph_MmrQ"
   },
   "outputs": [],
   "source": [
    "from tensorflow.keras.utils import to_categorical\n",
    "\n",
    "# Нормализация\n",
    "x_train=x_train/255\n",
    "x_test=x_test/255\n",
    "\n",
    "#One hot encoding\n",
    "y_train_cat=to_categorical(y_train,10)\n",
    "y_test_cat=to_categorical(y_test,10)"
   ]
  },
  {
   "cell_type": "code",
   "execution_count": 5,
   "metadata": {
    "id": "PIfsidHQM0iG"
   },
   "outputs": [],
   "source": [
    "# Импорт необходимых библиотек, которыми мы можем воспользоваться\n",
    "from tensorflow.keras.models import Sequential\n",
    "from tensorflow.keras.layers import Conv2D,MaxPool2D,Dense,Flatten,Dropout,Input, AveragePooling2D, Activation,Conv2D, MaxPooling2D, BatchNormalization,Concatenate\n",
    "from tensorflow.keras.callbacks import EarlyStopping, TensorBoard\n",
    "from tensorflow.keras import regularizers, optimizers\n",
    "from tensorflow.keras.preprocessing.image import ImageDataGenerator"
   ]
  },
  {
   "cell_type": "markdown",
   "metadata": {
    "id": "njAwBRgzNZcb"
   },
   "source": [
    "## Модели"
   ]
  },
  {
   "cell_type": "markdown",
   "metadata": {
    "id": "H7jZtH4kNcOx"
   },
   "source": [
    "### Базовая модель\n",
    "Два простых сверточных слоя с 32 фильтрами в каждом, а входная форма равна 32х32х3. Функция активации - ReLu"
   ]
  },
  {
   "cell_type": "code",
   "execution_count": 6,
   "metadata": {
    "id": "HiOZgQGXN7ns"
   },
   "outputs": [],
   "source": [
    "model1=Sequential()\n",
    "model1.add(Conv2D(filters=32,kernel_size=(4,4),input_shape=(32,32,3),activation='relu'))\n",
    "model1.add(MaxPool2D(pool_size=(2,2)))\n",
    "model1.add(Conv2D(filters=32,kernel_size=(4,4),input_shape=(32,32,3),activation='relu'))\n",
    "model1.add(MaxPool2D(pool_size=(2,2)))\n",
    "model1.add(Flatten())\n",
    "model1.add(Dense(256,activation='relu'))\n",
    "model1.add(Dense(10,activation='softmax'))\n",
    "model1.compile(loss='categorical_crossentropy',optimizer='adam',metrics=['accuracy'])"
   ]
  },
  {
   "cell_type": "code",
   "execution_count": 7,
   "metadata": {
    "colab": {
     "base_uri": "https://localhost:8080/"
    },
    "id": "gf0RI2PVN_kL",
    "outputId": "10ae7d2a-642f-498c-8ffa-48a3d355c56d"
   },
   "outputs": [
    {
     "name": "stdout",
     "output_type": "stream",
     "text": [
      "Model: \"sequential\"\n",
      "_________________________________________________________________\n",
      " Layer (type)                Output Shape              Param #   \n",
      "=================================================================\n",
      " conv2d (Conv2D)             (None, 29, 29, 32)        1568      \n",
      "                                                                 \n",
      " max_pooling2d (MaxPooling2D  (None, 14, 14, 32)       0         \n",
      " )                                                               \n",
      "                                                                 \n",
      " conv2d_1 (Conv2D)           (None, 11, 11, 32)        16416     \n",
      "                                                                 \n",
      " max_pooling2d_1 (MaxPooling  (None, 5, 5, 32)         0         \n",
      " 2D)                                                             \n",
      "                                                                 \n",
      " flatten (Flatten)           (None, 800)               0         \n",
      "                                                                 \n",
      " dense (Dense)               (None, 256)               205056    \n",
      "                                                                 \n",
      " dense_1 (Dense)             (None, 10)                2570      \n",
      "                                                                 \n",
      "=================================================================\n",
      "Total params: 225,610\n",
      "Trainable params: 225,610\n",
      "Non-trainable params: 0\n",
      "_________________________________________________________________\n"
     ]
    }
   ],
   "source": [
    "model1.summary()"
   ]
  },
  {
   "cell_type": "code",
   "execution_count": 8,
   "metadata": {
    "colab": {
     "base_uri": "https://localhost:8080/"
    },
    "id": "pZYRg3dfOIZv",
    "outputId": "351665e4-9296-4697-daad-62303370a221"
   },
   "outputs": [
    {
     "name": "stdout",
     "output_type": "stream",
     "text": [
      "Epoch 1/20\n",
      "1563/1563 [==============================] - 25s 16ms/step - loss: 1.5141 - accuracy: 0.4510 - val_loss: 1.2942 - val_accuracy: 0.5440\n",
      "Epoch 2/20\n",
      "1563/1563 [==============================] - 25s 16ms/step - loss: 1.2001 - accuracy: 0.5756 - val_loss: 1.1649 - val_accuracy: 0.5875\n",
      "Epoch 3/20\n",
      "1563/1563 [==============================] - 28s 18ms/step - loss: 1.0496 - accuracy: 0.6327 - val_loss: 1.0771 - val_accuracy: 0.6207\n",
      "Epoch 4/20\n",
      "1563/1563 [==============================] - 25s 16ms/step - loss: 0.9446 - accuracy: 0.6707 - val_loss: 1.0321 - val_accuracy: 0.6425\n",
      "Epoch 5/20\n",
      "1563/1563 [==============================] - 23s 15ms/step - loss: 0.8551 - accuracy: 0.7008 - val_loss: 1.0065 - val_accuracy: 0.6560\n",
      "Epoch 6/20\n",
      "1563/1563 [==============================] - 26s 17ms/step - loss: 0.7752 - accuracy: 0.7304 - val_loss: 0.9745 - val_accuracy: 0.6687\n",
      "Epoch 7/20\n",
      "1563/1563 [==============================] - 25s 16ms/step - loss: 0.7063 - accuracy: 0.7546 - val_loss: 0.9697 - val_accuracy: 0.6738\n",
      "Epoch 8/20\n",
      "1563/1563 [==============================] - 23s 15ms/step - loss: 0.6445 - accuracy: 0.7742 - val_loss: 1.0296 - val_accuracy: 0.6620\n",
      "Epoch 9/20\n",
      "1563/1563 [==============================] - 25s 16ms/step - loss: 0.5842 - accuracy: 0.7950 - val_loss: 1.0152 - val_accuracy: 0.6748\n",
      "Epoch 10/20\n",
      "1563/1563 [==============================] - 26s 17ms/step - loss: 0.5259 - accuracy: 0.8176 - val_loss: 1.0648 - val_accuracy: 0.6649\n",
      "Epoch 11/20\n",
      "1563/1563 [==============================] - 24s 16ms/step - loss: 0.4766 - accuracy: 0.8320 - val_loss: 1.1762 - val_accuracy: 0.6580\n",
      "Epoch 12/20\n",
      "1563/1563 [==============================] - 25s 16ms/step - loss: 0.4265 - accuracy: 0.8498 - val_loss: 1.1664 - val_accuracy: 0.6681\n",
      "Epoch 13/20\n",
      "1563/1563 [==============================] - 24s 15ms/step - loss: 0.3805 - accuracy: 0.8678 - val_loss: 1.2625 - val_accuracy: 0.6653\n",
      "Epoch 14/20\n",
      "1563/1563 [==============================] - 25s 16ms/step - loss: 0.3444 - accuracy: 0.8782 - val_loss: 1.3781 - val_accuracy: 0.6616\n",
      "Epoch 15/20\n",
      "1563/1563 [==============================] - 27s 17ms/step - loss: 0.3033 - accuracy: 0.8923 - val_loss: 1.4638 - val_accuracy: 0.6459\n",
      "Epoch 16/20\n",
      "1563/1563 [==============================] - 28s 18ms/step - loss: 0.2688 - accuracy: 0.9056 - val_loss: 1.5329 - val_accuracy: 0.6572\n",
      "Epoch 17/20\n",
      "1563/1563 [==============================] - 26s 17ms/step - loss: 0.2440 - accuracy: 0.9126 - val_loss: 1.6788 - val_accuracy: 0.6585\n",
      "Epoch 18/20\n",
      "1563/1563 [==============================] - 28s 18ms/step - loss: 0.2203 - accuracy: 0.9227 - val_loss: 1.6886 - val_accuracy: 0.6679\n",
      "Epoch 19/20\n",
      "1563/1563 [==============================] - 27s 17ms/step - loss: 0.2021 - accuracy: 0.9289 - val_loss: 1.8225 - val_accuracy: 0.6531\n",
      "Epoch 20/20\n",
      "1563/1563 [==============================] - 25s 16ms/step - loss: 0.1803 - accuracy: 0.9358 - val_loss: 1.9394 - val_accuracy: 0.6528\n"
     ]
    }
   ],
   "source": [
    "history1=model1.fit(x_train,y_train_cat,epochs=20,validation_data=(x_test,y_test_cat))"
   ]
  },
  {
   "cell_type": "code",
   "execution_count": 9,
   "metadata": {
    "colab": {
     "base_uri": "https://localhost:8080/"
    },
    "id": "v7d48glnaKe3",
    "outputId": "6ff2493a-4116-4c1b-dbe9-40e5665b9da6"
   },
   "outputs": [
    {
     "name": "stdout",
     "output_type": "stream",
     "text": [
      "313/313 [==============================] - 2s 5ms/step - loss: 1.9394 - accuracy: 0.6528\n",
      "Test Accuracy: 0.6528000235557556\n"
     ]
    }
   ],
   "source": [
    "evaluation = model1.evaluate(x_test, y_test_cat)\n",
    "print('Test Accuracy: {}'.format(evaluation[1]))"
   ]
  },
  {
   "cell_type": "code",
   "execution_count": 10,
   "metadata": {
    "colab": {
     "base_uri": "https://localhost:8080/",
     "height": 183
    },
    "id": "rA4xw4FhaP4X",
    "outputId": "62c2ab53-0f83-4c04-cb72-d031d6725a66"
   },
   "outputs": [
    {
     "data": {
      "text/plain": [
       "<AxesSubplot:>"
      ]
     },
     "execution_count": 10,
     "metadata": {},
     "output_type": "execute_result"
    },
    {
     "data": {
      "image/png": "[encoded data removed]",
      "text/plain": [
       "<Figure size 640x480 with 1 Axes>"
      ]
     },
     "metadata": {},
     "output_type": "display_data"
    }
   ],
   "source": [
    "import pandas as pd\n",
    "pd.DataFrame(history1.history).plot()"
   ]
  },
  {
   "cell_type": "markdown",
   "metadata": {
    "id": "C1SLSXh3aW5s"
   },
   "source": [
    "Используя данную базовую модель мы смогли получить 93% точности обучения и 65% точности тестирования, что является недостаточно высоким результатом. \n",
    "\n",
    "Мы также можем заметить, что при потери при проверки значительно увеличиваются, что означает, что наша модель \"переобучается\". Это означает, что она хорошо работает с обучающим набором данных, но не может обощить \"невидимые\" данные.\n",
    "\n",
    "Как уменьшить переобучение? Я нахожу следующие варианты:\n",
    "\n",
    "1. Добавить больше данных\n",
    "2. Уменьшить сложность модели\n",
    "3. Применить регуляризацию\n",
    "\n",
    "Варианты 1 и 2 в нашем случае не подходят, поскольку получить новые данные очень сложно, а сама наша модель не настолько сложна, чтобы уменьшить архитектуру. \n",
    "\n",
    "Будем использовать метод регуляризации - Dropout.\n",
    "\n",
    "Случайным образом мы удалим некоторые нейронные единицы из нашей сети, что заставит следующий уровень снова изучать паттерны. \n",
    "\n",
    "Попробуем добавить Dropout после каждого слоя CNN + MaxPool."
   ]
  },
  {
   "cell_type": "markdown",
   "metadata": {
    "id": "Mv5nIa-welWP"
   },
   "source": [
    "### Модель с методом регуляризации Dropout"
   ]
  },
  {
   "cell_type": "code",
   "execution_count": 11,
   "metadata": {
    "id": "KiJGi9LeewpA"
   },
   "outputs": [],
   "source": [
    "model2=Sequential()\n",
    "model2.add(Conv2D(filters=32,kernel_size=(4,4),input_shape=(32,32,3),activation='relu'))\n",
    "model2.add(MaxPool2D(pool_size=(2,2)))\n",
    "model2.add(Dropout(0.25)) # Убираем 25% изучаемых объектов со слоя\n",
    "model2.add(Conv2D(filters=32,kernel_size=(4,4),input_shape=(32,32,3),activation='relu'))\n",
    "model2.add(MaxPool2D(pool_size=(2,2)))\n",
    "model2.add(Dropout(0.25))\n",
    "model2.add(Flatten())\n",
    "model2.add(Dense(256,activation='relu'))\n",
    "model2.add(Dense(10,activation='softmax'))\n",
    "model2.compile(loss='categorical_crossentropy',optimizer='adam',metrics=['accuracy'])"
   ]
  },
  {
   "cell_type": "code",
   "execution_count": 12,
   "metadata": {
    "colab": {
     "base_uri": "https://localhost:8080/"
    },
    "id": "4HYWNkFWeyxr",
    "outputId": "c333be27-d8dd-490f-a8a5-4f8873f56210"
   },
   "outputs": [
    {
     "name": "stdout",
     "output_type": "stream",
     "text": [
      "Epoch 1/20\n",
      "1563/1563 [==============================] - 30s 19ms/step - loss: 1.5742 - accuracy: 0.4292 - val_loss: 1.3114 - val_accuracy: 0.5271\n",
      "Epoch 2/20\n",
      "1563/1563 [==============================] - 29s 19ms/step - loss: 1.2669 - accuracy: 0.5498 - val_loss: 1.1377 - val_accuracy: 0.6042\n",
      "Epoch 3/20\n",
      "1563/1563 [==============================] - 27s 18ms/step - loss: 1.1221 - accuracy: 0.6020 - val_loss: 1.0665 - val_accuracy: 0.6257\n",
      "Epoch 4/20\n",
      "1563/1563 [==============================] - 31s 20ms/step - loss: 1.0279 - accuracy: 0.6357 - val_loss: 1.0100 - val_accuracy: 0.6486\n",
      "Epoch 5/20\n",
      "1563/1563 [==============================] - 28s 18ms/step - loss: 0.9558 - accuracy: 0.6634 - val_loss: 0.9570 - val_accuracy: 0.6688\n",
      "Epoch 6/20\n",
      "1563/1563 [==============================] - 28s 18ms/step - loss: 0.9002 - accuracy: 0.6835 - val_loss: 0.9071 - val_accuracy: 0.6871\n",
      "Epoch 7/20\n",
      "1563/1563 [==============================] - 30s 19ms/step - loss: 0.8557 - accuracy: 0.6998 - val_loss: 0.8977 - val_accuracy: 0.6914\n",
      "Epoch 8/20\n",
      "1563/1563 [==============================] - 30s 19ms/step - loss: 0.8186 - accuracy: 0.7136 - val_loss: 0.8864 - val_accuracy: 0.6961\n",
      "Epoch 9/20\n",
      "1563/1563 [==============================] - 32s 21ms/step - loss: 0.7844 - accuracy: 0.7269 - val_loss: 0.9238 - val_accuracy: 0.6833\n",
      "Epoch 10/20\n",
      "1563/1563 [==============================] - 30s 19ms/step - loss: 0.7605 - accuracy: 0.7333 - val_loss: 0.8652 - val_accuracy: 0.7000\n",
      "Epoch 11/20\n",
      "1563/1563 [==============================] - 31s 20ms/step - loss: 0.7299 - accuracy: 0.7446 - val_loss: 0.8600 - val_accuracy: 0.7045\n",
      "Epoch 12/20\n",
      "1563/1563 [==============================] - 31s 20ms/step - loss: 0.7044 - accuracy: 0.7514 - val_loss: 0.8623 - val_accuracy: 0.7054\n",
      "Epoch 13/20\n",
      "1563/1563 [==============================] - 29s 19ms/step - loss: 0.6806 - accuracy: 0.7620 - val_loss: 0.8586 - val_accuracy: 0.7115\n",
      "Epoch 14/20\n",
      "1563/1563 [==============================] - 28s 18ms/step - loss: 0.6614 - accuracy: 0.7653 - val_loss: 0.8730 - val_accuracy: 0.7022\n",
      "Epoch 15/20\n",
      "1563/1563 [==============================] - 26s 16ms/step - loss: 0.6414 - accuracy: 0.7758 - val_loss: 0.8560 - val_accuracy: 0.7161\n",
      "Epoch 16/20\n",
      "1563/1563 [==============================] - 25s 16ms/step - loss: 0.6347 - accuracy: 0.7767 - val_loss: 0.8798 - val_accuracy: 0.7113\n",
      "Epoch 17/20\n",
      "1563/1563 [==============================] - 25s 16ms/step - loss: 0.6145 - accuracy: 0.7830 - val_loss: 0.8895 - val_accuracy: 0.7036\n",
      "Epoch 18/20\n",
      "1563/1563 [==============================] - 25s 16ms/step - loss: 0.6062 - accuracy: 0.7870 - val_loss: 0.8984 - val_accuracy: 0.7053\n",
      "Epoch 19/20\n",
      "1563/1563 [==============================] - 25s 16ms/step - loss: 0.5943 - accuracy: 0.7878 - val_loss: 0.8810 - val_accuracy: 0.7128\n",
      "Epoch 20/20\n",
      "1563/1563 [==============================] - 28s 18ms/step - loss: 0.5769 - accuracy: 0.7973 - val_loss: 0.8931 - val_accuracy: 0.7137\n"
     ]
    }
   ],
   "source": [
    "history2=model2.fit(x_train,y_train_cat,epochs=20,validation_data=(x_test,y_test_cat))"
   ]
  },
  {
   "cell_type": "code",
   "execution_count": 13,
   "metadata": {
    "colab": {
     "base_uri": "https://localhost:8080/"
    },
    "id": "upnKdsWxk4d4",
    "outputId": "36b1a22c-39a7-48da-c7af-47139cf89a45"
   },
   "outputs": [
    {
     "name": "stdout",
     "output_type": "stream",
     "text": [
      "313/313 [==============================] - 1s 4ms/step - loss: 0.8931 - accuracy: 0.7137\n",
      "Test Accuracy: 0.713699996471405\n"
     ]
    }
   ],
   "source": [
    "evaluation = model2.evaluate(x_test, y_test_cat)\n",
    "print('Test Accuracy: {}'.format(evaluation[1]))"
   ]
  },
  {
   "cell_type": "code",
   "execution_count": 14,
   "metadata": {
    "colab": {
     "base_uri": "https://localhost:8080/",
     "height": 447
    },
    "id": "DbFBWQsZk8D3",
    "outputId": "f7efafad-0cd6-412a-9036-a05393df3fcc"
   },
   "outputs": [
    {
     "data": {
      "text/plain": [
       "<AxesSubplot:>"
      ]
     },
     "execution_count": 14,
     "metadata": {},
     "output_type": "execute_result"
    },
    {
     "data": {
      "image/png": "[encoded data removed]",
      "text/plain": [
       "<Figure size 640x480 with 1 Axes>"
      ]
     },
     "metadata": {},
     "output_type": "display_data"
    }
   ],
   "source": [
    "pd.DataFrame(history2.history).plot()"
   ]
  },
  {
   "cell_type": "markdown",
   "metadata": {
    "id": "LtAd3IvRlLKX"
   },
   "source": [
    "Мы наблюдаем повышение точности с 64% до 71%.\n",
    "\n",
    "Попробуем добавить большее количество слоев с увеличением количества фильтров.\n",
    "Также, потери теперь находятся под контролем, поэтому мы можем использовать большее количество эпох."
   ]
  },
  {
   "cell_type": "markdown",
   "metadata": {
    "id": "AbOBNYtClnBZ"
   },
   "source": [
    "### Модель с Dropout с большим количеством слоев и фильтров"
   ]
  },
  {
   "cell_type": "code",
   "execution_count": 15,
   "metadata": {
    "id": "az7yPRSzlwKJ"
   },
   "outputs": [],
   "source": [
    "model3 = Sequential()\n",
    "model3.add(Conv2D(filters = 64, kernel_size = (3,3), activation = 'relu', input_shape = (32,32,3)))\n",
    "model3.add(Conv2D(filters = 64, kernel_size = (3,3), activation = 'relu'))\n",
    "model3.add(MaxPool2D(2,2))\n",
    "model3.add(Dropout(0.4))\n",
    "\n",
    "\n",
    "model3.add(Conv2D(filters = 128, kernel_size = (3,3), activation = 'relu'))\n",
    "model3.add(Conv2D(filters = 128, kernel_size = (3,3), activation = 'relu'))\n",
    "model3.add(MaxPool2D(2,2))\n",
    "model3.add(Dropout(0.4))\n",
    "\n",
    "model3.add(Flatten())\n",
    "\n",
    "model3.add(Dense(units = 1024, activation = 'relu'))\n",
    "\n",
    "model3.add(Dense(units = 1024, activation = 'relu'))\n",
    "\n",
    "model3.add(Dense(units = 10, activation = 'softmax'))\n",
    "model3.compile(loss = 'categorical_crossentropy', optimizer = 'adam', metrics = ['accuracy'])"
   ]
  },
  {
   "cell_type": "code",
   "execution_count": 16,
   "metadata": {
    "colab": {
     "base_uri": "https://localhost:8080/"
    },
    "id": "Ml2v-tnWl4OR",
    "outputId": "2e056644-abd8-4e0a-f222-1f3ed81f6c24"
   },
   "outputs": [
    {
     "name": "stdout",
     "output_type": "stream",
     "text": [
      "Epoch 1/50\n",
      "1563/1563 [==============================] - 193s 123ms/step - loss: 1.5764 - accuracy: 0.4182 - val_loss: 1.2520 - val_accuracy: 0.5552\n",
      "Epoch 2/50\n",
      "1563/1563 [==============================] - 204s 130ms/step - loss: 1.2278 - accuracy: 0.5603 - val_loss: 1.0770 - val_accuracy: 0.6164\n",
      "Epoch 3/50\n",
      "1563/1563 [==============================] - 205s 131ms/step - loss: 1.0772 - accuracy: 0.6178 - val_loss: 1.0067 - val_accuracy: 0.6445\n",
      "Epoch 4/50\n",
      "1563/1563 [==============================] - 202s 130ms/step - loss: 0.9648 - accuracy: 0.6592 - val_loss: 0.8740 - val_accuracy: 0.6907\n",
      "Epoch 5/50\n",
      "1563/1563 [==============================] - 177s 113ms/step - loss: 0.8840 - accuracy: 0.6864 - val_loss: 0.8165 - val_accuracy: 0.7132\n",
      "Epoch 6/50\n",
      "1563/1563 [==============================] - 182s 117ms/step - loss: 0.8171 - accuracy: 0.7096 - val_loss: 0.7925 - val_accuracy: 0.7305\n",
      "Epoch 7/50\n",
      "1563/1563 [==============================] - 189s 121ms/step - loss: 0.7618 - accuracy: 0.7308 - val_loss: 0.7779 - val_accuracy: 0.7296\n",
      "Epoch 8/50\n",
      "1563/1563 [==============================] - 190s 122ms/step - loss: 0.7158 - accuracy: 0.7476 - val_loss: 0.7577 - val_accuracy: 0.7416\n",
      "Epoch 9/50\n",
      "1563/1563 [==============================] - 190s 122ms/step - loss: 0.6789 - accuracy: 0.7599 - val_loss: 0.7312 - val_accuracy: 0.7452\n",
      "Epoch 10/50\n",
      "1563/1563 [==============================] - 178s 114ms/step - loss: 0.6410 - accuracy: 0.7711 - val_loss: 0.7332 - val_accuracy: 0.7534\n",
      "Epoch 11/50\n",
      "1563/1563 [==============================] - 171s 109ms/step - loss: 0.6085 - accuracy: 0.7847 - val_loss: 0.7472 - val_accuracy: 0.7527\n",
      "Epoch 12/50\n",
      "1563/1563 [==============================] - 171s 109ms/step - loss: 0.5775 - accuracy: 0.7958 - val_loss: 0.7553 - val_accuracy: 0.7527\n",
      "Epoch 13/50\n",
      "1563/1563 [==============================] - 171s 109ms/step - loss: 0.5517 - accuracy: 0.8049 - val_loss: 0.7546 - val_accuracy: 0.7586\n",
      "Epoch 14/50\n",
      "1563/1563 [==============================] - 170s 109ms/step - loss: 0.5290 - accuracy: 0.8134 - val_loss: 0.7981 - val_accuracy: 0.7499\n",
      "Epoch 15/50\n",
      "1563/1563 [==============================] - 171s 109ms/step - loss: 0.5043 - accuracy: 0.8220 - val_loss: 0.7381 - val_accuracy: 0.7638\n",
      "Epoch 16/50\n",
      "1563/1563 [==============================] - 167s 107ms/step - loss: 0.4884 - accuracy: 0.8280 - val_loss: 0.7691 - val_accuracy: 0.7561\n",
      "Epoch 17/50\n",
      "1563/1563 [==============================] - 172s 110ms/step - loss: 0.4678 - accuracy: 0.8362 - val_loss: 0.7850 - val_accuracy: 0.7617\n",
      "Epoch 18/50\n",
      "1563/1563 [==============================] - 179s 115ms/step - loss: 0.4602 - accuracy: 0.8378 - val_loss: 0.7645 - val_accuracy: 0.7649\n",
      "Epoch 19/50\n",
      "1563/1563 [==============================] - 180s 115ms/step - loss: 0.4435 - accuracy: 0.8430 - val_loss: 0.7812 - val_accuracy: 0.7630\n",
      "Epoch 20/50\n",
      "1563/1563 [==============================] - 180s 115ms/step - loss: 0.4358 - accuracy: 0.8482 - val_loss: 0.7915 - val_accuracy: 0.7608\n",
      "Epoch 21/50\n",
      "1563/1563 [==============================] - 167s 107ms/step - loss: 0.4134 - accuracy: 0.8552 - val_loss: 0.8398 - val_accuracy: 0.7591\n",
      "Epoch 22/50\n",
      "1563/1563 [==============================] - 164s 105ms/step - loss: 0.3965 - accuracy: 0.8607 - val_loss: 0.8534 - val_accuracy: 0.7567\n",
      "Epoch 23/50\n",
      "1563/1563 [==============================] - 163s 104ms/step - loss: 0.3913 - accuracy: 0.8641 - val_loss: 0.8260 - val_accuracy: 0.7657\n",
      "Epoch 24/50\n",
      "1563/1563 [==============================] - 163s 105ms/step - loss: 0.3842 - accuracy: 0.8675 - val_loss: 0.8068 - val_accuracy: 0.7647\n",
      "Epoch 25/50\n",
      "1563/1563 [==============================] - 163s 104ms/step - loss: 0.3704 - accuracy: 0.8714 - val_loss: 0.8204 - val_accuracy: 0.7664\n",
      "Epoch 26/50\n",
      "1563/1563 [==============================] - 163s 105ms/step - loss: 0.3655 - accuracy: 0.8737 - val_loss: 0.8439 - val_accuracy: 0.7611\n",
      "Epoch 27/50\n",
      "1563/1563 [==============================] - 163s 104ms/step - loss: 0.3597 - accuracy: 0.8769 - val_loss: 0.8552 - val_accuracy: 0.7628\n",
      "Epoch 28/50\n",
      "1563/1563 [==============================] - 163s 104ms/step - loss: 0.3461 - accuracy: 0.8811 - val_loss: 0.8459 - val_accuracy: 0.7591\n",
      "Epoch 29/50\n",
      "1563/1563 [==============================] - 163s 105ms/step - loss: 0.3375 - accuracy: 0.8840 - val_loss: 0.9570 - val_accuracy: 0.7570\n",
      "Epoch 30/50\n",
      "1563/1563 [==============================] - 163s 104ms/step - loss: 0.3297 - accuracy: 0.8877 - val_loss: 0.8515 - val_accuracy: 0.7628\n",
      "Epoch 31/50\n",
      "1563/1563 [==============================] - 163s 104ms/step - loss: 0.3275 - accuracy: 0.8895 - val_loss: 0.8540 - val_accuracy: 0.7670\n",
      "Epoch 32/50\n",
      "1563/1563 [==============================] - 163s 104ms/step - loss: 0.3213 - accuracy: 0.8913 - val_loss: 0.8926 - val_accuracy: 0.7543\n",
      "Epoch 33/50\n",
      "1563/1563 [==============================] - 163s 104ms/step - loss: 0.3187 - accuracy: 0.8933 - val_loss: 0.8657 - val_accuracy: 0.7647\n",
      "Epoch 34/50\n",
      "1563/1563 [==============================] - 164s 105ms/step - loss: 0.3165 - accuracy: 0.8948 - val_loss: 0.8846 - val_accuracy: 0.7531\n",
      "Epoch 35/50\n",
      "1563/1563 [==============================] - 164s 105ms/step - loss: 0.3010 - accuracy: 0.8990 - val_loss: 0.8966 - val_accuracy: 0.7654\n",
      "Epoch 36/50\n",
      "1563/1563 [==============================] - 163s 104ms/step - loss: 0.3054 - accuracy: 0.8994 - val_loss: 0.9286 - val_accuracy: 0.7516\n",
      "Epoch 37/50\n",
      "1563/1563 [==============================] - 163s 104ms/step - loss: 0.3024 - accuracy: 0.8987 - val_loss: 0.8922 - val_accuracy: 0.7655\n",
      "Epoch 38/50\n",
      "1563/1563 [==============================] - 164s 105ms/step - loss: 0.2881 - accuracy: 0.9044 - val_loss: 0.9756 - val_accuracy: 0.7489\n",
      "Epoch 39/50\n",
      "1563/1563 [==============================] - 163s 104ms/step - loss: 0.2935 - accuracy: 0.9027 - val_loss: 0.9066 - val_accuracy: 0.7687\n",
      "Epoch 40/50\n",
      "1563/1563 [==============================] - 163s 104ms/step - loss: 0.2848 - accuracy: 0.9051 - val_loss: 0.9197 - val_accuracy: 0.7629\n",
      "Epoch 41/50\n",
      "1563/1563 [==============================] - 163s 104ms/step - loss: 0.2812 - accuracy: 0.9074 - val_loss: 1.0028 - val_accuracy: 0.7617\n",
      "Epoch 42/50\n",
      "1563/1563 [==============================] - 163s 104ms/step - loss: 0.2785 - accuracy: 0.9069 - val_loss: 1.0156 - val_accuracy: 0.7394\n",
      "Epoch 43/50\n",
      "1563/1563 [==============================] - 163s 104ms/step - loss: 0.2853 - accuracy: 0.9072 - val_loss: 0.8817 - val_accuracy: 0.7711\n",
      "Epoch 44/50\n",
      "1563/1563 [==============================] - 163s 104ms/step - loss: 0.2719 - accuracy: 0.9094 - val_loss: 0.9665 - val_accuracy: 0.7672\n",
      "Epoch 45/50\n",
      "1563/1563 [==============================] - 162s 104ms/step - loss: 0.2738 - accuracy: 0.9101 - val_loss: 0.9360 - val_accuracy: 0.7635\n",
      "Epoch 46/50\n",
      "1563/1563 [==============================] - 162s 104ms/step - loss: 0.2651 - accuracy: 0.9124 - val_loss: 0.9998 - val_accuracy: 0.7653\n",
      "Epoch 47/50\n",
      "1563/1563 [==============================] - 163s 104ms/step - loss: 0.2680 - accuracy: 0.9133 - val_loss: 0.9305 - val_accuracy: 0.7667\n",
      "Epoch 48/50\n",
      "1563/1563 [==============================] - 183s 117ms/step - loss: 0.2620 - accuracy: 0.9148 - val_loss: 0.9176 - val_accuracy: 0.7694\n",
      "Epoch 49/50\n",
      "1563/1563 [==============================] - 179s 115ms/step - loss: 0.2584 - accuracy: 0.9172 - val_loss: 1.0291 - val_accuracy: 0.7655\n",
      "Epoch 50/50\n",
      "1563/1563 [==============================] - 179s 114ms/step - loss: 0.2715 - accuracy: 0.9123 - val_loss: 0.9369 - val_accuracy: 0.7638\n"
     ]
    }
   ],
   "source": [
    "history3=model3.fit(x_train,y_train_cat,epochs=50,validation_data=(x_test,y_test_cat))"
   ]
  },
  {
   "cell_type": "markdown",
   "metadata": {
    "id": "vcYLmjY_Pboy"
   },
   "source": [
    "Мы видим, что увеличение слоев и увеличение dropout с 0.25 до 0.4 привело к повышению точности 76%, что является значительным улучшением. \n",
    "\n",
    "Можно попробовать увеличить количество слоев. Однако если мы будем добавлять дальше CNN мы потеряем данные, так как размер изображений уменьшится из-за свертки. Изображения у нас небольшие - поэтому хорошей идеей будет ограничить количество слоев."
   ]
  },
  {
   "cell_type": "code",
   "execution_count": 17,
   "metadata": {
    "colab": {
     "base_uri": "https://localhost:8080/",
     "height": 165
    },
    "id": "V5QAeqj3QncK",
    "outputId": "4ed3b577-6d26-43c4-b5d9-8e5fd92d2055"
   },
   "outputs": [
    {
     "data": {
      "text/plain": [
       "<AxesSubplot:>"
      ]
     },
     "execution_count": 17,
     "metadata": {},
     "output_type": "execute_result"
    },
    {
     "data": {
      "image/png": "[encoded data removed]",
      "text/plain": [
       "<Figure size 640x480 with 1 Axes>"
      ]
     },
     "metadata": {},
     "output_type": "display_data"
    }
   ],
   "source": [
    "pd.DataFrame(history3.history).plot()"
   ]
  },
  {
   "cell_type": "markdown",
   "metadata": {
    "id": "J3f78wpiSZxZ"
   },
   "source": [
    "### Модель с увеличенным количеством слоев и фильтров наряду с увеличевающимся Dropout"
   ]
  },
  {
   "cell_type": "code",
   "execution_count": 21,
   "metadata": {
    "id": "RSY9DWMGSjSb"
   },
   "outputs": [],
   "source": [
    "model4 = Sequential()\n",
    "model4.add(Conv2D(32, (3, 3), activation='relu', kernel_initializer='he_uniform', padding='same', input_shape=(32, 32, 3)))\n",
    "model4.add(Conv2D(32, (3, 3), activation='relu', kernel_initializer='he_uniform', padding='same'))\n",
    "model4.add(MaxPool2D((2, 2)))\n",
    "model4.add(Dropout(0.2))\n",
    "model4.add(Conv2D(64, (3, 3), activation='relu', kernel_initializer='he_uniform', padding='same'))\n",
    "model4.add(Conv2D(64, (3, 3), activation='relu', kernel_initializer='he_uniform', padding='same'))\n",
    "model4.add(MaxPool2D((2, 2)))\n",
    "model4.add(Dropout(0.3))\n",
    "model4.add(Conv2D(128, (3, 3), activation='relu', kernel_initializer='he_uniform', padding='same'))\n",
    "model4.add(Conv2D(128, (3, 3), activation='relu', kernel_initializer='he_uniform', padding='same'))\n",
    "model4.add(MaxPool2D((2, 2)))\n",
    "model4.add(Dropout(0.4))\n",
    "model4.add(Flatten())\n",
    "model4.add(Dense(128, activation='relu', kernel_initializer='he_uniform'))\n",
    "model4.add(Dropout(0.5))\n",
    "model4.add(Dense(10, activation='softmax'))\n",
    "\n",
    "# compile model\n",
    "model4.compile(optimizer='adam', loss='categorical_crossentropy', metrics=['accuracy'])"
   ]
  },
  {
   "cell_type": "code",
   "execution_count": 22,
   "metadata": {},
   "outputs": [
    {
     "name": "stdout",
     "output_type": "stream",
     "text": [
      "Epoch 1/50\n",
      "1563/1563 [==============================] - 115s 73ms/step - loss: 1.7309 - accuracy: 0.3535 - val_loss: 1.4099 - val_accuracy: 0.4966\n",
      "Epoch 2/50\n",
      "1563/1563 [==============================] - 130s 83ms/step - loss: 1.3079 - accuracy: 0.5286 - val_loss: 1.1140 - val_accuracy: 0.6026\n",
      "Epoch 3/50\n",
      "1563/1563 [==============================] - 134s 86ms/step - loss: 1.1215 - accuracy: 0.6023 - val_loss: 0.9180 - val_accuracy: 0.6716\n",
      "Epoch 4/50\n",
      "1563/1563 [==============================] - 139s 89ms/step - loss: 1.0215 - accuracy: 0.6437 - val_loss: 0.8491 - val_accuracy: 0.7035\n",
      "Epoch 5/50\n",
      "1563/1563 [==============================] - 140s 89ms/step - loss: 0.9525 - accuracy: 0.6694 - val_loss: 0.8380 - val_accuracy: 0.7110\n",
      "Epoch 6/50\n",
      "1563/1563 [==============================] - 139s 89ms/step - loss: 0.9016 - accuracy: 0.6878 - val_loss: 0.7811 - val_accuracy: 0.7275\n",
      "Epoch 7/50\n",
      "1563/1563 [==============================] - 137s 88ms/step - loss: 0.8647 - accuracy: 0.7016 - val_loss: 0.7785 - val_accuracy: 0.7301\n",
      "Epoch 8/50\n",
      "1563/1563 [==============================] - 140s 89ms/step - loss: 0.8349 - accuracy: 0.7096 - val_loss: 0.7337 - val_accuracy: 0.7451\n",
      "Epoch 9/50\n",
      "1563/1563 [==============================] - 132s 85ms/step - loss: 0.8151 - accuracy: 0.7178 - val_loss: 0.7122 - val_accuracy: 0.7558\n",
      "Epoch 10/50\n",
      "1563/1563 [==============================] - 134s 86ms/step - loss: 0.7989 - accuracy: 0.7259 - val_loss: 0.7111 - val_accuracy: 0.7542\n",
      "Epoch 11/50\n",
      "1563/1563 [==============================] - 136s 87ms/step - loss: 0.7825 - accuracy: 0.7322 - val_loss: 0.6843 - val_accuracy: 0.7690\n",
      "Epoch 12/50\n",
      "1563/1563 [==============================] - 135s 87ms/step - loss: 0.7624 - accuracy: 0.7371 - val_loss: 0.6973 - val_accuracy: 0.7562\n",
      "Epoch 13/50\n",
      "1563/1563 [==============================] - 140s 90ms/step - loss: 0.7507 - accuracy: 0.7394 - val_loss: 0.6809 - val_accuracy: 0.7710\n",
      "Epoch 14/50\n",
      "1563/1563 [==============================] - 147s 94ms/step - loss: 0.7402 - accuracy: 0.7461 - val_loss: 0.6810 - val_accuracy: 0.7706\n",
      "Epoch 15/50\n",
      "1563/1563 [==============================] - 144s 92ms/step - loss: 0.7347 - accuracy: 0.7496 - val_loss: 0.6900 - val_accuracy: 0.7684\n",
      "Epoch 16/50\n",
      "1563/1563 [==============================] - 139s 89ms/step - loss: 0.7290 - accuracy: 0.7521 - val_loss: 0.6926 - val_accuracy: 0.7673\n",
      "Epoch 17/50\n",
      "1563/1563 [==============================] - 142s 91ms/step - loss: 0.7114 - accuracy: 0.7569 - val_loss: 0.6752 - val_accuracy: 0.7715\n",
      "Epoch 18/50\n",
      "1563/1563 [==============================] - 139s 89ms/step - loss: 0.7076 - accuracy: 0.7575 - val_loss: 0.6675 - val_accuracy: 0.7782\n",
      "Epoch 19/50\n",
      "1563/1563 [==============================] - 144s 92ms/step - loss: 0.7008 - accuracy: 0.7593 - val_loss: 0.7147 - val_accuracy: 0.7631\n",
      "Epoch 20/50\n",
      "1563/1563 [==============================] - 146s 93ms/step - loss: 0.6929 - accuracy: 0.7617 - val_loss: 0.6744 - val_accuracy: 0.7731\n",
      "Epoch 21/50\n",
      "1563/1563 [==============================] - 128s 82ms/step - loss: 0.6877 - accuracy: 0.7660 - val_loss: 0.6373 - val_accuracy: 0.7864\n",
      "Epoch 22/50\n",
      "1563/1563 [==============================] - 123s 79ms/step - loss: 0.6817 - accuracy: 0.7662 - val_loss: 0.6552 - val_accuracy: 0.7773\n",
      "Epoch 23/50\n",
      "1563/1563 [==============================] - 123s 79ms/step - loss: 0.6793 - accuracy: 0.7674 - val_loss: 0.6771 - val_accuracy: 0.7774\n",
      "Epoch 24/50\n",
      "1563/1563 [==============================] - 124s 79ms/step - loss: 0.6689 - accuracy: 0.7727 - val_loss: 0.7004 - val_accuracy: 0.7723\n",
      "Epoch 25/50\n",
      "1563/1563 [==============================] - 124s 79ms/step - loss: 0.6707 - accuracy: 0.7715 - val_loss: 0.6589 - val_accuracy: 0.7777\n",
      "Epoch 26/50\n",
      "1563/1563 [==============================] - 130s 83ms/step - loss: 0.6648 - accuracy: 0.7706 - val_loss: 0.6930 - val_accuracy: 0.7700\n",
      "Epoch 27/50\n",
      "1563/1563 [==============================] - 129s 83ms/step - loss: 0.6592 - accuracy: 0.7760 - val_loss: 0.6854 - val_accuracy: 0.7740\n",
      "Epoch 28/50\n",
      "1563/1563 [==============================] - 127s 81ms/step - loss: 0.6598 - accuracy: 0.7763 - val_loss: 0.6793 - val_accuracy: 0.7794\n",
      "Epoch 29/50\n",
      "1563/1563 [==============================] - 127s 81ms/step - loss: 0.6605 - accuracy: 0.7777 - val_loss: 0.6414 - val_accuracy: 0.7840\n",
      "Epoch 30/50\n",
      "1563/1563 [==============================] - 123s 79ms/step - loss: 0.6604 - accuracy: 0.7769 - val_loss: 0.6344 - val_accuracy: 0.7873\n",
      "Epoch 31/50\n",
      "1563/1563 [==============================] - 120s 77ms/step - loss: 0.6484 - accuracy: 0.7800 - val_loss: 0.6926 - val_accuracy: 0.7706\n",
      "Epoch 32/50\n",
      "1563/1563 [==============================] - 120s 77ms/step - loss: 0.6500 - accuracy: 0.7791 - val_loss: 0.6386 - val_accuracy: 0.7944\n",
      "Epoch 33/50\n",
      "1563/1563 [==============================] - 119s 76ms/step - loss: 0.6440 - accuracy: 0.7819 - val_loss: 0.6310 - val_accuracy: 0.7926\n",
      "Epoch 34/50\n",
      "1563/1563 [==============================] - 119s 76ms/step - loss: 0.6427 - accuracy: 0.7813 - val_loss: 0.6393 - val_accuracy: 0.7869\n",
      "Epoch 35/50\n",
      "1563/1563 [==============================] - 110s 71ms/step - loss: 0.6435 - accuracy: 0.7813 - val_loss: 0.6646 - val_accuracy: 0.7893\n",
      "Epoch 36/50\n",
      "1563/1563 [==============================] - 109s 70ms/step - loss: 0.6410 - accuracy: 0.7809 - val_loss: 0.6492 - val_accuracy: 0.7873\n",
      "Epoch 37/50\n",
      "1563/1563 [==============================] - 110s 70ms/step - loss: 0.6384 - accuracy: 0.7839 - val_loss: 0.6673 - val_accuracy: 0.7859\n",
      "Epoch 38/50\n",
      "1563/1563 [==============================] - 110s 70ms/step - loss: 0.6392 - accuracy: 0.7838 - val_loss: 0.6381 - val_accuracy: 0.7952\n",
      "Epoch 39/50\n",
      "1563/1563 [==============================] - 110s 71ms/step - loss: 0.6412 - accuracy: 0.7815 - val_loss: 0.6357 - val_accuracy: 0.7934\n",
      "Epoch 40/50\n",
      "1563/1563 [==============================] - 110s 71ms/step - loss: 0.6317 - accuracy: 0.7861 - val_loss: 0.6717 - val_accuracy: 0.7832\n",
      "Epoch 41/50\n",
      "1563/1563 [==============================] - 110s 70ms/step - loss: 0.6371 - accuracy: 0.7864 - val_loss: 0.6837 - val_accuracy: 0.7749\n",
      "Epoch 42/50\n",
      "1563/1563 [==============================] - 110s 70ms/step - loss: 0.6358 - accuracy: 0.7850 - val_loss: 0.6690 - val_accuracy: 0.7881\n",
      "Epoch 43/50\n",
      "1563/1563 [==============================] - 117s 75ms/step - loss: 0.6283 - accuracy: 0.7876 - val_loss: 0.6686 - val_accuracy: 0.7847\n",
      "Epoch 44/50\n",
      "1563/1563 [==============================] - 120s 77ms/step - loss: 0.6347 - accuracy: 0.7866 - val_loss: 0.6858 - val_accuracy: 0.7809\n",
      "Epoch 45/50\n",
      "1563/1563 [==============================] - 128s 82ms/step - loss: 0.6315 - accuracy: 0.7876 - val_loss: 0.6319 - val_accuracy: 0.7946\n",
      "Epoch 46/50\n",
      "1563/1563 [==============================] - 132s 84ms/step - loss: 0.6346 - accuracy: 0.7875 - val_loss: 0.6263 - val_accuracy: 0.7959\n",
      "Epoch 47/50\n",
      "1563/1563 [==============================] - 137s 88ms/step - loss: 0.6239 - accuracy: 0.7901 - val_loss: 0.6431 - val_accuracy: 0.7953\n",
      "Epoch 48/50\n",
      "1563/1563 [==============================] - 131s 84ms/step - loss: 0.6261 - accuracy: 0.7875 - val_loss: 0.6310 - val_accuracy: 0.7951\n",
      "Epoch 49/50\n",
      "1563/1563 [==============================] - 131s 84ms/step - loss: 0.6379 - accuracy: 0.7850 - val_loss: 0.6190 - val_accuracy: 0.7994\n",
      "Epoch 50/50\n",
      "1563/1563 [==============================] - 132s 85ms/step - loss: 0.6297 - accuracy: 0.7869 - val_loss: 0.6655 - val_accuracy: 0.7873\n"
     ]
    }
   ],
   "source": [
    "history4=model4.fit(x_train,y_train_cat,epochs=50,validation_data=(x_test,y_test_cat))"
   ]
  },
  {
   "cell_type": "code",
   "execution_count": 23,
   "metadata": {
    "id": "-5IrwmEKSlpA"
   },
   "outputs": [
    {
     "data": {
      "text/plain": [
       "<AxesSubplot:>"
      ]
     },
     "execution_count": 23,
     "metadata": {},
     "output_type": "execute_result"
    },
    {
     "data": {
      "image/png": "[encoded data removed]",
      "text/plain": [
       "<Figure size 640x480 with 1 Axes>"
      ]
     },
     "metadata": {},
     "output_type": "display_data"
    }
   ],
   "source": [
    "pd.DataFrame(history4.history).plot()"
   ]
  },
  {
   "cell_type": "code",
   "execution_count": 24,
   "metadata": {},
   "outputs": [
    {
     "name": "stdout",
     "output_type": "stream",
     "text": [
      "313/313 [==============================] - 6s 20ms/step - loss: 0.6655 - accuracy: 0.7873\n",
      "Test Accuracy: 0.7872999906539917\n"
     ]
    }
   ],
   "source": [
    "evaluation = model4.evaluate(x_test, y_test_cat)\n",
    "print('Test Accuracy: {}'.format(evaluation[1]))"
   ]
  },
  {
   "cell_type": "markdown",
   "metadata": {},
   "source": [
    "Теперь точность составила 78%."
   ]
  },
  {
   "cell_type": "markdown",
   "metadata": {},
   "source": [
    "### Batch Normalization для ускорения обучения нейронных сетей"
   ]
  },
  {
   "cell_type": "code",
   "execution_count": 27,
   "metadata": {},
   "outputs": [],
   "source": [
    "model5 = Sequential()\n",
    "model5.add(Conv2D(32, (3, 3), activation='relu', kernel_initializer='he_uniform', padding='same', input_shape=(32, 32, 3)))\n",
    "model5.add(BatchNormalization())\n",
    "model5.add(Conv2D(32, (3, 3), activation='relu', kernel_initializer='he_uniform', padding='same'))\n",
    "model5.add(BatchNormalization())\n",
    "model5.add(MaxPool2D((2, 2)))\n",
    "model5.add(Dropout(0.2))\n",
    "model5.add(Conv2D(64, (3, 3), activation='relu', kernel_initializer='he_uniform', padding='same'))\n",
    "model5.add(BatchNormalization())\n",
    "model5.add(Conv2D(64, (3, 3), activation='relu', kernel_initializer='he_uniform', padding='same'))\n",
    "model5.add(BatchNormalization())\n",
    "model5.add(MaxPool2D((2, 2)))\n",
    "model5.add(Dropout(0.3))\n",
    "model5.add(Conv2D(128, (3, 3), activation='relu', kernel_initializer='he_uniform', padding='same'))\n",
    "model5.add(BatchNormalization())\n",
    "model5.add(Conv2D(128, (3, 3), activation='relu', kernel_initializer='he_uniform', padding='same'))\n",
    "model5.add(BatchNormalization())\n",
    "model5.add(MaxPool2D((2, 2)))\n",
    "model5.add(Dropout(0.4))\n",
    "model5.add(Flatten())\n",
    "model5.add(Dense(128, activation='relu', kernel_initializer='he_uniform'))\n",
    "model5.add(BatchNormalization())\n",
    "model5.add(Dropout(0.5))\n",
    "model5.add(Dense(10, activation='softmax'))\n",
    "\n",
    "# compile model\n",
    "model5.compile(optimizer='adam', loss='categorical_crossentropy', metrics=['accuracy'])"
   ]
  },
  {
   "cell_type": "code",
   "execution_count": 28,
   "metadata": {},
   "outputs": [
    {
     "name": "stdout",
     "output_type": "stream",
     "text": [
      "Epoch 1/50\n",
      "1563/1563 [==============================] - 161s 102ms/step - loss: 1.5900 - accuracy: 0.4484 - val_loss: 1.1553 - val_accuracy: 0.5967\n",
      "Epoch 2/50\n",
      "1563/1563 [==============================] - 149s 96ms/step - loss: 1.0582 - accuracy: 0.6263 - val_loss: 0.8461 - val_accuracy: 0.7011\n",
      "Epoch 3/50\n",
      "1563/1563 [==============================] - 150s 96ms/step - loss: 0.9016 - accuracy: 0.6883 - val_loss: 0.8427 - val_accuracy: 0.7112\n",
      "Epoch 4/50\n",
      "1563/1563 [==============================] - 149s 95ms/step - loss: 0.7957 - accuracy: 0.7259 - val_loss: 0.6886 - val_accuracy: 0.7650\n",
      "Epoch 5/50\n",
      "1563/1563 [==============================] - 146s 94ms/step - loss: 0.7208 - accuracy: 0.7543 - val_loss: 0.6696 - val_accuracy: 0.7726\n",
      "Epoch 6/50\n",
      "1563/1563 [==============================] - 140s 90ms/step - loss: 0.6691 - accuracy: 0.7717 - val_loss: 0.5734 - val_accuracy: 0.8051\n",
      "Epoch 7/50\n",
      "1563/1563 [==============================] - 140s 90ms/step - loss: 0.6132 - accuracy: 0.7912 - val_loss: 0.6262 - val_accuracy: 0.7838\n",
      "Epoch 8/50\n",
      "1563/1563 [==============================] - 141s 90ms/step - loss: 0.5797 - accuracy: 0.8027 - val_loss: 0.5300 - val_accuracy: 0.8203\n",
      "Epoch 9/50\n",
      "1563/1563 [==============================] - 140s 90ms/step - loss: 0.5437 - accuracy: 0.8148 - val_loss: 0.5469 - val_accuracy: 0.8127\n",
      "Epoch 10/50\n",
      "1563/1563 [==============================] - 140s 90ms/step - loss: 0.5169 - accuracy: 0.8229 - val_loss: 0.5201 - val_accuracy: 0.8241\n",
      "Epoch 11/50\n",
      "1563/1563 [==============================] - 140s 90ms/step - loss: 0.4948 - accuracy: 0.8306 - val_loss: 0.5155 - val_accuracy: 0.8260\n",
      "Epoch 12/50\n",
      "1563/1563 [==============================] - 140s 90ms/step - loss: 0.4689 - accuracy: 0.8414 - val_loss: 0.4894 - val_accuracy: 0.8333\n",
      "Epoch 13/50\n",
      "1563/1563 [==============================] - 140s 90ms/step - loss: 0.4587 - accuracy: 0.8422 - val_loss: 0.5815 - val_accuracy: 0.8058\n",
      "Epoch 14/50\n",
      "1563/1563 [==============================] - 140s 90ms/step - loss: 0.4352 - accuracy: 0.8516 - val_loss: 0.5617 - val_accuracy: 0.8186\n",
      "Epoch 15/50\n",
      "1563/1563 [==============================] - 140s 90ms/step - loss: 0.4197 - accuracy: 0.8563 - val_loss: 0.5305 - val_accuracy: 0.8283\n",
      "Epoch 16/50\n",
      "1563/1563 [==============================] - 139s 89ms/step - loss: 0.4070 - accuracy: 0.8606 - val_loss: 0.4794 - val_accuracy: 0.8417\n",
      "Epoch 17/50\n",
      "1563/1563 [==============================] - 140s 90ms/step - loss: 0.3969 - accuracy: 0.8645 - val_loss: 0.4852 - val_accuracy: 0.8391\n",
      "Epoch 18/50\n",
      "1563/1563 [==============================] - 141s 90ms/step - loss: 0.3872 - accuracy: 0.8664 - val_loss: 0.4483 - val_accuracy: 0.8524\n",
      "Epoch 19/50\n",
      "1563/1563 [==============================] - 140s 90ms/step - loss: 0.3753 - accuracy: 0.8708 - val_loss: 0.4614 - val_accuracy: 0.8508\n",
      "Epoch 20/50\n",
      "1563/1563 [==============================] - 140s 89ms/step - loss: 0.3684 - accuracy: 0.8744 - val_loss: 0.4455 - val_accuracy: 0.8512\n",
      "Epoch 21/50\n",
      "1563/1563 [==============================] - 140s 90ms/step - loss: 0.3536 - accuracy: 0.8781 - val_loss: 0.4877 - val_accuracy: 0.8383\n",
      "Epoch 22/50\n",
      "1563/1563 [==============================] - 140s 90ms/step - loss: 0.3478 - accuracy: 0.8804 - val_loss: 0.4659 - val_accuracy: 0.8494\n",
      "Epoch 23/50\n",
      "1563/1563 [==============================] - 140s 90ms/step - loss: 0.3417 - accuracy: 0.8837 - val_loss: 0.4432 - val_accuracy: 0.8584\n",
      "Epoch 24/50\n",
      "1563/1563 [==============================] - 140s 89ms/step - loss: 0.3299 - accuracy: 0.8871 - val_loss: 0.5111 - val_accuracy: 0.8394\n",
      "Epoch 25/50\n",
      "1563/1563 [==============================] - 158s 101ms/step - loss: 0.3175 - accuracy: 0.8902 - val_loss: 0.4496 - val_accuracy: 0.8571\n",
      "Epoch 26/50\n",
      "1563/1563 [==============================] - 165s 106ms/step - loss: 0.3165 - accuracy: 0.8927 - val_loss: 0.4805 - val_accuracy: 0.8427\n",
      "Epoch 27/50\n",
      "1563/1563 [==============================] - 151s 97ms/step - loss: 0.3083 - accuracy: 0.8956 - val_loss: 0.4594 - val_accuracy: 0.8541\n",
      "Epoch 28/50\n",
      "1563/1563 [==============================] - 150s 96ms/step - loss: 0.2984 - accuracy: 0.8978 - val_loss: 0.4872 - val_accuracy: 0.8486\n",
      "Epoch 29/50\n",
      "1563/1563 [==============================] - 150s 96ms/step - loss: 0.2973 - accuracy: 0.8973 - val_loss: 0.4413 - val_accuracy: 0.8610\n",
      "Epoch 30/50\n",
      "1563/1563 [==============================] - 145s 93ms/step - loss: 0.2920 - accuracy: 0.8985 - val_loss: 0.4673 - val_accuracy: 0.8544\n",
      "Epoch 31/50\n",
      "1563/1563 [==============================] - 140s 90ms/step - loss: 0.2867 - accuracy: 0.9007 - val_loss: 0.4594 - val_accuracy: 0.8569\n",
      "Epoch 32/50\n",
      "1563/1563 [==============================] - 140s 90ms/step - loss: 0.2800 - accuracy: 0.9016 - val_loss: 0.5151 - val_accuracy: 0.8397\n",
      "Epoch 33/50\n",
      "1563/1563 [==============================] - 140s 90ms/step - loss: 0.2798 - accuracy: 0.9030 - val_loss: 0.4460 - val_accuracy: 0.8625\n",
      "Epoch 34/50\n",
      "1563/1563 [==============================] - 141s 90ms/step - loss: 0.2716 - accuracy: 0.9058 - val_loss: 0.4411 - val_accuracy: 0.8627\n",
      "Epoch 35/50\n",
      "1563/1563 [==============================] - 141s 90ms/step - loss: 0.2689 - accuracy: 0.9070 - val_loss: 0.4606 - val_accuracy: 0.8603\n",
      "Epoch 36/50\n",
      "1563/1563 [==============================] - 140s 90ms/step - loss: 0.2604 - accuracy: 0.9090 - val_loss: 0.4344 - val_accuracy: 0.8705\n",
      "Epoch 37/50\n",
      "1563/1563 [==============================] - 140s 89ms/step - loss: 0.2603 - accuracy: 0.9093 - val_loss: 0.4410 - val_accuracy: 0.8683\n",
      "Epoch 38/50\n",
      "1563/1563 [==============================] - 140s 90ms/step - loss: 0.2531 - accuracy: 0.9123 - val_loss: 0.4573 - val_accuracy: 0.8644\n",
      "Epoch 39/50\n",
      "1563/1563 [==============================] - 140s 89ms/step - loss: 0.2484 - accuracy: 0.9135 - val_loss: 0.4595 - val_accuracy: 0.8620\n",
      "Epoch 40/50\n",
      "1563/1563 [==============================] - 139s 89ms/step - loss: 0.2516 - accuracy: 0.9141 - val_loss: 0.4646 - val_accuracy: 0.8569\n",
      "Epoch 41/50\n",
      "1563/1563 [==============================] - 140s 89ms/step - loss: 0.2424 - accuracy: 0.9160 - val_loss: 0.4487 - val_accuracy: 0.8634\n",
      "Epoch 42/50\n",
      "1563/1563 [==============================] - 140s 89ms/step - loss: 0.2481 - accuracy: 0.9152 - val_loss: 0.4323 - val_accuracy: 0.8682\n",
      "Epoch 43/50\n",
      "1563/1563 [==============================] - 140s 90ms/step - loss: 0.2372 - accuracy: 0.9184 - val_loss: 0.4419 - val_accuracy: 0.8669\n",
      "Epoch 44/50\n",
      "1563/1563 [==============================] - 140s 89ms/step - loss: 0.2336 - accuracy: 0.9197 - val_loss: 0.4693 - val_accuracy: 0.8618\n",
      "Epoch 45/50\n",
      "1563/1563 [==============================] - 140s 89ms/step - loss: 0.2337 - accuracy: 0.9184 - val_loss: 0.4483 - val_accuracy: 0.8678\n",
      "Epoch 46/50\n",
      "1563/1563 [==============================] - 140s 89ms/step - loss: 0.2237 - accuracy: 0.9232 - val_loss: 0.4586 - val_accuracy: 0.8664\n",
      "Epoch 47/50\n",
      "1563/1563 [==============================] - 140s 89ms/step - loss: 0.2284 - accuracy: 0.9208 - val_loss: 0.4777 - val_accuracy: 0.8606\n",
      "Epoch 48/50\n",
      "1563/1563 [==============================] - 140s 89ms/step - loss: 0.2204 - accuracy: 0.9231 - val_loss: 0.4348 - val_accuracy: 0.8728\n",
      "Epoch 49/50\n",
      "1563/1563 [==============================] - 139s 89ms/step - loss: 0.2216 - accuracy: 0.9242 - val_loss: 0.4551 - val_accuracy: 0.8683\n",
      "Epoch 50/50\n",
      "1563/1563 [==============================] - 140s 89ms/step - loss: 0.2171 - accuracy: 0.9243 - val_loss: 0.4706 - val_accuracy: 0.8647\n"
     ]
    }
   ],
   "source": [
    "history5=model5.fit(x_train,y_train_cat,epochs=50,validation_data=(x_test,y_test_cat))"
   ]
  },
  {
   "cell_type": "code",
   "execution_count": 29,
   "metadata": {},
   "outputs": [
    {
     "data": {
      "text/plain": [
       "<AxesSubplot:>"
      ]
     },
     "execution_count": 29,
     "metadata": {},
     "output_type": "execute_result"
    },
    {
     "data": {
      "image/png": "[encoded data removed]",
      "text/plain": [
       "<Figure size 640x480 with 1 Axes>"
      ]
     },
     "metadata": {},
     "output_type": "display_data"
    }
   ],
   "source": [
    "pd.DataFrame(history5.history).plot()"
   ]
  },
  {
   "cell_type": "code",
   "execution_count": 30,
   "metadata": {
    "scrolled": true
   },
   "outputs": [
    {
     "name": "stdout",
     "output_type": "stream",
     "text": [
      "313/313 [==============================] - 7s 21ms/step - loss: 0.4706 - accuracy: 0.8647\n",
      "Test Accuracy: 0.8647000193595886\n"
     ]
    }
   ],
   "source": [
    "evaluation = model5.evaluate(x_test, y_test_cat)\n",
    "print('Test Accuracy: {}'.format(evaluation[1]))"
   ]
  },
  {
   "cell_type": "markdown",
   "metadata": {},
   "source": [
    "Данная нормализация дает хорошие результаты. Точность проверки 86%. "
   ]
  },
  {
   "cell_type": "markdown",
   "metadata": {},
   "source": [
    "### Модель с аугментацией изображения"
   ]
  },
  {
   "cell_type": "markdown",
   "metadata": {},
   "source": [
    "Добавление большего количества данных уменьшит переобучение. Мы можем генерировать данные из уже имеющихся путем некоторого изменения изображений. Будем использовать для этого ImageDataGenerator."
   ]
  },
  {
   "cell_type": "code",
   "execution_count": 31,
   "metadata": {},
   "outputs": [],
   "source": [
    "model6 = Sequential()\n",
    "model6.add(Conv2D(32, (3, 3), activation='relu', kernel_initializer='he_uniform', padding='same', input_shape=(32, 32, 3)))\n",
    "model6.add(BatchNormalization())\n",
    "model6.add(Conv2D(32, (3, 3), activation='relu', kernel_initializer='he_uniform', padding='same'))\n",
    "model6.add(BatchNormalization())\n",
    "model6.add(MaxPool2D((2, 2)))\n",
    "model6.add(Dropout(0.2))\n",
    "model6.add(Conv2D(64, (3, 3), activation='relu', kernel_initializer='he_uniform', padding='same'))\n",
    "model6.add(BatchNormalization())\n",
    "model6.add(Conv2D(64, (3, 3), activation='relu', kernel_initializer='he_uniform', padding='same'))\n",
    "model6.add(BatchNormalization())\n",
    "model6.add(MaxPool2D((2, 2)))\n",
    "model6.add(Dropout(0.3))\n",
    "model6.add(Conv2D(128, (3, 3), activation='relu', kernel_initializer='he_uniform', padding='same'))\n",
    "model6.add(BatchNormalization())\n",
    "model6.add(Conv2D(128, (3, 3), activation='relu', kernel_initializer='he_uniform', padding='same'))\n",
    "model6.add(BatchNormalization())\n",
    "model6.add(MaxPool2D((2, 2)))\n",
    "model6.add(Dropout(0.4))\n",
    "model6.add(Flatten())\n",
    "model6.add(Dense(128, activation='relu', kernel_initializer='he_uniform'))\n",
    "model6.add(BatchNormalization())\n",
    "model6.add(Dropout(0.5))\n",
    "model6.add(Dense(10, activation='softmax'))\n",
    "\n",
    "# compile model\n",
    "model6.compile(optimizer='adam', loss='categorical_crossentropy', metrics=['accuracy'])"
   ]
  },
  {
   "cell_type": "code",
   "execution_count": 32,
   "metadata": {},
   "outputs": [],
   "source": [
    "# Мы сдвигаем изображение по ширине и высоте, а также переворачиваем изображение по горизонтали\n",
    "datagen = ImageDataGenerator(width_shift_range=0.1, height_shift_range=0.1, horizontal_flip=True,rotation_range=20)\n",
    "it_train = datagen.flow(x_train,y_train_cat)\n",
    "steps = int(x_train.shape[0] / 64)"
   ]
  },
  {
   "cell_type": "code",
   "execution_count": 33,
   "metadata": {},
   "outputs": [
    {
     "name": "stdout",
     "output_type": "stream",
     "text": [
      "Epoch 1/200\n"
     ]
    },
    {
     "name": "stderr",
     "output_type": "stream",
     "text": [
      "C:\\Users\\kirkf\\AppData\\Local\\Temp\\ipykernel_18940\\1569698052.py:1: UserWarning: `Model.fit_generator` is deprecated and will be removed in a future version. Please use `Model.fit`, which supports generators.\n",
      "  history6=model6.fit_generator(it_train,epochs=200,steps_per_epoch=steps,validation_data=(x_test,y_test_cat))\n"
     ]
    },
    {
     "name": "stdout",
     "output_type": "stream",
     "text": [
      "781/781 [==============================] - 87s 108ms/step - loss: 1.9767 - accuracy: 0.3291 - val_loss: 1.4053 - val_accuracy: 0.4854\n",
      "Epoch 2/200\n",
      "781/781 [==============================] - 81s 103ms/step - loss: 1.4989 - accuracy: 0.4529 - val_loss: 1.4874 - val_accuracy: 0.4830\n",
      "Epoch 3/200\n",
      "781/781 [==============================] - 80s 102ms/step - loss: 1.3402 - accuracy: 0.5187 - val_loss: 1.1082 - val_accuracy: 0.6129\n",
      "Epoch 4/200\n",
      "781/781 [==============================] - 80s 103ms/step - loss: 1.2199 - accuracy: 0.5654 - val_loss: 1.0559 - val_accuracy: 0.6218\n",
      "Epoch 5/200\n",
      "781/781 [==============================] - 80s 102ms/step - loss: 1.1551 - accuracy: 0.5915 - val_loss: 1.1309 - val_accuracy: 0.6065\n",
      "Epoch 6/200\n",
      "781/781 [==============================] - 80s 103ms/step - loss: 1.0711 - accuracy: 0.6251 - val_loss: 0.8914 - val_accuracy: 0.6826\n",
      "Epoch 7/200\n",
      "781/781 [==============================] - 80s 102ms/step - loss: 1.0244 - accuracy: 0.6448 - val_loss: 0.8898 - val_accuracy: 0.6873\n",
      "Epoch 8/200\n",
      "781/781 [==============================] - 80s 102ms/step - loss: 0.9724 - accuracy: 0.6623 - val_loss: 0.7974 - val_accuracy: 0.7201\n",
      "Epoch 9/200\n",
      "781/781 [==============================] - 77s 99ms/step - loss: 0.9340 - accuracy: 0.6781 - val_loss: 0.8268 - val_accuracy: 0.7121\n",
      "Epoch 10/200\n",
      "781/781 [==============================] - 75s 97ms/step - loss: 0.9101 - accuracy: 0.6901 - val_loss: 0.8064 - val_accuracy: 0.7277\n",
      "Epoch 11/200\n",
      "781/781 [==============================] - 75s 97ms/step - loss: 0.8704 - accuracy: 0.7026 - val_loss: 0.8697 - val_accuracy: 0.7034\n",
      "Epoch 12/200\n",
      "781/781 [==============================] - 75s 97ms/step - loss: 0.8502 - accuracy: 0.7122 - val_loss: 0.8116 - val_accuracy: 0.7325\n",
      "Epoch 13/200\n",
      "781/781 [==============================] - 75s 97ms/step - loss: 0.8208 - accuracy: 0.7198 - val_loss: 0.7894 - val_accuracy: 0.7399\n",
      "Epoch 14/200\n",
      "781/781 [==============================] - 76s 97ms/step - loss: 0.8056 - accuracy: 0.7256 - val_loss: 0.7853 - val_accuracy: 0.7402\n",
      "Epoch 15/200\n",
      "781/781 [==============================] - 76s 97ms/step - loss: 0.7896 - accuracy: 0.7296 - val_loss: 0.7649 - val_accuracy: 0.7563\n",
      "Epoch 16/200\n",
      "781/781 [==============================] - 75s 97ms/step - loss: 0.7769 - accuracy: 0.7331 - val_loss: 0.7075 - val_accuracy: 0.7596\n",
      "Epoch 17/200\n",
      "781/781 [==============================] - 75s 96ms/step - loss: 0.7738 - accuracy: 0.7376 - val_loss: 0.6836 - val_accuracy: 0.7693\n",
      "Epoch 18/200\n",
      "781/781 [==============================] - 75s 96ms/step - loss: 0.7479 - accuracy: 0.7476 - val_loss: 0.6310 - val_accuracy: 0.7889\n",
      "Epoch 19/200\n",
      "781/781 [==============================] - 76s 97ms/step - loss: 0.7328 - accuracy: 0.7533 - val_loss: 0.6021 - val_accuracy: 0.7936\n",
      "Epoch 20/200\n",
      "781/781 [==============================] - 75s 97ms/step - loss: 0.7228 - accuracy: 0.7538 - val_loss: 0.5891 - val_accuracy: 0.8031\n",
      "Epoch 21/200\n",
      "781/781 [==============================] - 76s 97ms/step - loss: 0.7190 - accuracy: 0.7563 - val_loss: 0.6286 - val_accuracy: 0.7892\n",
      "Epoch 22/200\n",
      "781/781 [==============================] - 75s 97ms/step - loss: 0.7062 - accuracy: 0.7621 - val_loss: 0.6174 - val_accuracy: 0.7918\n",
      "Epoch 23/200\n",
      "781/781 [==============================] - 75s 96ms/step - loss: 0.6953 - accuracy: 0.7633 - val_loss: 0.5494 - val_accuracy: 0.8132\n",
      "Epoch 24/200\n",
      "781/781 [==============================] - 75s 96ms/step - loss: 0.6889 - accuracy: 0.7683 - val_loss: 0.6040 - val_accuracy: 0.7979\n",
      "Epoch 25/200\n",
      "781/781 [==============================] - 76s 97ms/step - loss: 0.6740 - accuracy: 0.7690 - val_loss: 0.6067 - val_accuracy: 0.7941\n",
      "Epoch 26/200\n",
      "781/781 [==============================] - 76s 97ms/step - loss: 0.6755 - accuracy: 0.7722 - val_loss: 0.5847 - val_accuracy: 0.8077\n",
      "Epoch 27/200\n",
      "781/781 [==============================] - 76s 97ms/step - loss: 0.6682 - accuracy: 0.7748 - val_loss: 0.5444 - val_accuracy: 0.8187\n",
      "Epoch 28/200\n",
      "781/781 [==============================] - 76s 97ms/step - loss: 0.6507 - accuracy: 0.7817 - val_loss: 0.5970 - val_accuracy: 0.8040\n",
      "Epoch 29/200\n",
      "781/781 [==============================] - 76s 97ms/step - loss: 0.6461 - accuracy: 0.7789 - val_loss: 0.6306 - val_accuracy: 0.7964\n",
      "Epoch 30/200\n",
      "781/781 [==============================] - 75s 96ms/step - loss: 0.6425 - accuracy: 0.7807 - val_loss: 0.5087 - val_accuracy: 0.8260\n",
      "Epoch 31/200\n",
      "781/781 [==============================] - 76s 97ms/step - loss: 0.6429 - accuracy: 0.7806 - val_loss: 0.5618 - val_accuracy: 0.8088\n",
      "Epoch 32/200\n",
      "781/781 [==============================] - 76s 97ms/step - loss: 0.6327 - accuracy: 0.7853 - val_loss: 0.5307 - val_accuracy: 0.8232\n",
      "Epoch 33/200\n",
      "781/781 [==============================] - 75s 97ms/step - loss: 0.6225 - accuracy: 0.7890 - val_loss: 0.5288 - val_accuracy: 0.8195\n",
      "Epoch 34/200\n",
      "781/781 [==============================] - 75s 96ms/step - loss: 0.6290 - accuracy: 0.7894 - val_loss: 0.5397 - val_accuracy: 0.8203\n",
      "Epoch 35/200\n",
      "781/781 [==============================] - 75s 96ms/step - loss: 0.6184 - accuracy: 0.7911 - val_loss: 0.5784 - val_accuracy: 0.8038\n",
      "Epoch 36/200\n",
      "781/781 [==============================] - 75s 97ms/step - loss: 0.6273 - accuracy: 0.7863 - val_loss: 0.5123 - val_accuracy: 0.8260\n",
      "Epoch 37/200\n",
      "781/781 [==============================] - 75s 96ms/step - loss: 0.6048 - accuracy: 0.7942 - val_loss: 0.6739 - val_accuracy: 0.7800\n",
      "Epoch 38/200\n",
      "781/781 [==============================] - 76s 97ms/step - loss: 0.6026 - accuracy: 0.7966 - val_loss: 0.5396 - val_accuracy: 0.8201\n",
      "Epoch 39/200\n",
      "781/781 [==============================] - 75s 97ms/step - loss: 0.5974 - accuracy: 0.7978 - val_loss: 0.5255 - val_accuracy: 0.8263\n",
      "Epoch 40/200\n",
      "781/781 [==============================] - 76s 97ms/step - loss: 0.5858 - accuracy: 0.8001 - val_loss: 0.5118 - val_accuracy: 0.8282\n",
      "Epoch 41/200\n",
      "781/781 [==============================] - 75s 96ms/step - loss: 0.5973 - accuracy: 0.7966 - val_loss: 0.5387 - val_accuracy: 0.8223\n",
      "Epoch 42/200\n",
      "781/781 [==============================] - 76s 98ms/step - loss: 0.5849 - accuracy: 0.8028 - val_loss: 0.5101 - val_accuracy: 0.8307\n",
      "Epoch 43/200\n",
      "781/781 [==============================] - 75s 96ms/step - loss: 0.5892 - accuracy: 0.7987 - val_loss: 0.4692 - val_accuracy: 0.8406\n",
      "Epoch 44/200\n",
      "781/781 [==============================] - 75s 96ms/step - loss: 0.5793 - accuracy: 0.8040 - val_loss: 0.5356 - val_accuracy: 0.8244\n",
      "Epoch 45/200\n",
      "781/781 [==============================] - 75s 96ms/step - loss: 0.5867 - accuracy: 0.8024 - val_loss: 0.4885 - val_accuracy: 0.8333\n",
      "Epoch 46/200\n",
      "781/781 [==============================] - 75s 96ms/step - loss: 0.5748 - accuracy: 0.8093 - val_loss: 0.5135 - val_accuracy: 0.8271\n",
      "Epoch 47/200\n",
      "781/781 [==============================] - 76s 97ms/step - loss: 0.5799 - accuracy: 0.8076 - val_loss: 0.5062 - val_accuracy: 0.8333\n",
      "Epoch 48/200\n",
      "781/781 [==============================] - 75s 97ms/step - loss: 0.5743 - accuracy: 0.8066 - val_loss: 0.5124 - val_accuracy: 0.8316\n",
      "Epoch 49/200\n",
      "781/781 [==============================] - 75s 97ms/step - loss: 0.5633 - accuracy: 0.8100 - val_loss: 0.4771 - val_accuracy: 0.8380\n",
      "Epoch 50/200\n",
      "781/781 [==============================] - 76s 97ms/step - loss: 0.5576 - accuracy: 0.8141 - val_loss: 0.4992 - val_accuracy: 0.8344\n",
      "Epoch 51/200\n",
      "781/781 [==============================] - 75s 96ms/step - loss: 0.5658 - accuracy: 0.8076 - val_loss: 0.5015 - val_accuracy: 0.8298\n",
      "Epoch 52/200\n",
      "781/781 [==============================] - 75s 96ms/step - loss: 0.5573 - accuracy: 0.8129 - val_loss: 0.5856 - val_accuracy: 0.8053\n",
      "Epoch 53/200\n",
      "781/781 [==============================] - 76s 97ms/step - loss: 0.5550 - accuracy: 0.8126 - val_loss: 0.4951 - val_accuracy: 0.8337\n",
      "Epoch 54/200\n",
      "781/781 [==============================] - 75s 96ms/step - loss: 0.5537 - accuracy: 0.8138 - val_loss: 0.5425 - val_accuracy: 0.8276\n",
      "Epoch 55/200\n",
      "781/781 [==============================] - 75s 96ms/step - loss: 0.5464 - accuracy: 0.8181 - val_loss: 0.5411 - val_accuracy: 0.8217\n",
      "Epoch 56/200\n",
      "781/781 [==============================] - 75s 96ms/step - loss: 0.5545 - accuracy: 0.8144 - val_loss: 0.4780 - val_accuracy: 0.8417\n",
      "Epoch 57/200\n"
     ]
    },
    {
     "name": "stdout",
     "output_type": "stream",
     "text": [
      "781/781 [==============================] - 75s 96ms/step - loss: 0.5546 - accuracy: 0.8115 - val_loss: 0.4836 - val_accuracy: 0.8382\n",
      "Epoch 58/200\n",
      "781/781 [==============================] - 75s 97ms/step - loss: 0.5322 - accuracy: 0.8207 - val_loss: 0.4809 - val_accuracy: 0.8419\n",
      "Epoch 59/200\n",
      "781/781 [==============================] - 76s 97ms/step - loss: 0.5409 - accuracy: 0.8170 - val_loss: 0.4937 - val_accuracy: 0.8380\n",
      "Epoch 60/200\n",
      "781/781 [==============================] - 75s 96ms/step - loss: 0.5399 - accuracy: 0.8169 - val_loss: 0.4801 - val_accuracy: 0.8407\n",
      "Epoch 61/200\n",
      "781/781 [==============================] - 76s 97ms/step - loss: 0.5335 - accuracy: 0.8222 - val_loss: 0.4276 - val_accuracy: 0.8600\n",
      "Epoch 62/200\n",
      "781/781 [==============================] - 75s 96ms/step - loss: 0.5361 - accuracy: 0.8177 - val_loss: 0.4322 - val_accuracy: 0.8515\n",
      "Epoch 63/200\n",
      "781/781 [==============================] - 75s 96ms/step - loss: 0.5341 - accuracy: 0.8215 - val_loss: 0.4339 - val_accuracy: 0.8546\n",
      "Epoch 64/200\n",
      "781/781 [==============================] - 75s 97ms/step - loss: 0.5327 - accuracy: 0.8200 - val_loss: 0.4796 - val_accuracy: 0.8418\n",
      "Epoch 65/200\n",
      "781/781 [==============================] - 76s 97ms/step - loss: 0.5233 - accuracy: 0.8238 - val_loss: 0.4769 - val_accuracy: 0.8418\n",
      "Epoch 66/200\n",
      "781/781 [==============================] - 76s 97ms/step - loss: 0.5231 - accuracy: 0.8238 - val_loss: 0.4439 - val_accuracy: 0.8513\n",
      "Epoch 67/200\n",
      "781/781 [==============================] - 76s 97ms/step - loss: 0.5219 - accuracy: 0.8250 - val_loss: 0.4792 - val_accuracy: 0.8376\n",
      "Epoch 68/200\n",
      "781/781 [==============================] - 76s 97ms/step - loss: 0.5204 - accuracy: 0.8221 - val_loss: 0.4354 - val_accuracy: 0.8544\n",
      "Epoch 69/200\n",
      "781/781 [==============================] - 76s 97ms/step - loss: 0.5208 - accuracy: 0.8222 - val_loss: 0.4944 - val_accuracy: 0.8384\n",
      "Epoch 70/200\n",
      "781/781 [==============================] - 75s 97ms/step - loss: 0.5231 - accuracy: 0.8230 - val_loss: 0.4202 - val_accuracy: 0.8601\n",
      "Epoch 71/200\n",
      "781/781 [==============================] - 76s 97ms/step - loss: 0.5181 - accuracy: 0.8273 - val_loss: 0.4289 - val_accuracy: 0.8567\n",
      "Epoch 72/200\n",
      "781/781 [==============================] - 75s 97ms/step - loss: 0.5148 - accuracy: 0.8274 - val_loss: 0.4341 - val_accuracy: 0.8553\n",
      "Epoch 73/200\n",
      "781/781 [==============================] - 76s 97ms/step - loss: 0.5111 - accuracy: 0.8290 - val_loss: 0.4671 - val_accuracy: 0.8471\n",
      "Epoch 74/200\n",
      "781/781 [==============================] - 75s 96ms/step - loss: 0.5165 - accuracy: 0.8248 - val_loss: 0.5050 - val_accuracy: 0.8346\n",
      "Epoch 75/200\n",
      "781/781 [==============================] - 76s 97ms/step - loss: 0.5030 - accuracy: 0.8308 - val_loss: 0.4116 - val_accuracy: 0.8645\n",
      "Epoch 76/200\n",
      "781/781 [==============================] - 76s 97ms/step - loss: 0.4965 - accuracy: 0.8284 - val_loss: 0.4506 - val_accuracy: 0.8521\n",
      "Epoch 77/200\n",
      "781/781 [==============================] - 77s 98ms/step - loss: 0.5091 - accuracy: 0.8294 - val_loss: 0.4413 - val_accuracy: 0.8544\n",
      "Epoch 78/200\n",
      "781/781 [==============================] - 79s 101ms/step - loss: 0.5136 - accuracy: 0.8305 - val_loss: 0.4361 - val_accuracy: 0.8512\n",
      "Epoch 79/200\n",
      "781/781 [==============================] - 90s 115ms/step - loss: 0.5009 - accuracy: 0.8300 - val_loss: 0.4671 - val_accuracy: 0.8452\n",
      "Epoch 80/200\n",
      "781/781 [==============================] - 83s 106ms/step - loss: 0.4953 - accuracy: 0.8327 - val_loss: 0.4585 - val_accuracy: 0.8474\n",
      "Epoch 81/200\n",
      "781/781 [==============================] - 81s 104ms/step - loss: 0.4973 - accuracy: 0.8305 - val_loss: 0.4001 - val_accuracy: 0.8639\n",
      "Epoch 82/200\n",
      "781/781 [==============================] - 81s 104ms/step - loss: 0.4968 - accuracy: 0.8321 - val_loss: 0.4297 - val_accuracy: 0.8569\n",
      "Epoch 83/200\n",
      "781/781 [==============================] - 82s 105ms/step - loss: 0.4987 - accuracy: 0.8345 - val_loss: 0.4267 - val_accuracy: 0.8581\n",
      "Epoch 84/200\n",
      "781/781 [==============================] - 82s 105ms/step - loss: 0.5019 - accuracy: 0.8306 - val_loss: 0.4349 - val_accuracy: 0.8526\n",
      "Epoch 85/200\n",
      "781/781 [==============================] - 81s 104ms/step - loss: 0.4877 - accuracy: 0.8343 - val_loss: 0.4045 - val_accuracy: 0.8660\n",
      "Epoch 86/200\n",
      "781/781 [==============================] - 81s 103ms/step - loss: 0.4997 - accuracy: 0.8337 - val_loss: 0.3972 - val_accuracy: 0.8671\n",
      "Epoch 87/200\n",
      "781/781 [==============================] - 81s 103ms/step - loss: 0.4982 - accuracy: 0.8348 - val_loss: 0.4298 - val_accuracy: 0.8587\n",
      "Epoch 88/200\n",
      "781/781 [==============================] - 80s 103ms/step - loss: 0.4883 - accuracy: 0.8349 - val_loss: 0.3790 - val_accuracy: 0.8709\n",
      "Epoch 89/200\n",
      "781/781 [==============================] - 80s 103ms/step - loss: 0.4814 - accuracy: 0.8369 - val_loss: 0.4212 - val_accuracy: 0.8632\n",
      "Epoch 90/200\n",
      "781/781 [==============================] - 81s 103ms/step - loss: 0.4869 - accuracy: 0.8359 - val_loss: 0.4345 - val_accuracy: 0.8547\n",
      "Epoch 91/200\n",
      "781/781 [==============================] - 81s 103ms/step - loss: 0.4847 - accuracy: 0.8367 - val_loss: 0.3996 - val_accuracy: 0.8657\n",
      "Epoch 92/200\n",
      "781/781 [==============================] - 76s 97ms/step - loss: 0.4919 - accuracy: 0.8333 - val_loss: 0.4256 - val_accuracy: 0.8591\n",
      "Epoch 93/200\n",
      "781/781 [==============================] - 75s 96ms/step - loss: 0.4725 - accuracy: 0.8413 - val_loss: 0.4611 - val_accuracy: 0.8471\n",
      "Epoch 94/200\n",
      "781/781 [==============================] - 75s 97ms/step - loss: 0.4744 - accuracy: 0.8405 - val_loss: 0.4124 - val_accuracy: 0.8600\n",
      "Epoch 95/200\n",
      "781/781 [==============================] - 76s 97ms/step - loss: 0.4847 - accuracy: 0.8347 - val_loss: 0.4171 - val_accuracy: 0.8611\n",
      "Epoch 96/200\n",
      "781/781 [==============================] - 76s 97ms/step - loss: 0.4755 - accuracy: 0.8414 - val_loss: 0.4460 - val_accuracy: 0.8525\n",
      "Epoch 97/200\n",
      "781/781 [==============================] - 75s 96ms/step - loss: 0.4803 - accuracy: 0.8388 - val_loss: 0.4276 - val_accuracy: 0.8592\n",
      "Epoch 98/200\n",
      "781/781 [==============================] - 75s 96ms/step - loss: 0.4800 - accuracy: 0.8401 - val_loss: 0.4711 - val_accuracy: 0.8463\n",
      "Epoch 99/200\n",
      "781/781 [==============================] - 75s 96ms/step - loss: 0.4742 - accuracy: 0.8401 - val_loss: 0.4277 - val_accuracy: 0.8625\n",
      "Epoch 100/200\n",
      "781/781 [==============================] - 75s 96ms/step - loss: 0.4817 - accuracy: 0.8388 - val_loss: 0.3795 - val_accuracy: 0.8745\n",
      "Epoch 101/200\n",
      "781/781 [==============================] - 75s 96ms/step - loss: 0.4688 - accuracy: 0.8411 - val_loss: 0.4205 - val_accuracy: 0.8571\n",
      "Epoch 102/200\n",
      "781/781 [==============================] - 75s 97ms/step - loss: 0.4727 - accuracy: 0.8385 - val_loss: 0.4139 - val_accuracy: 0.8607\n",
      "Epoch 103/200\n",
      "781/781 [==============================] - 76s 97ms/step - loss: 0.4712 - accuracy: 0.8428 - val_loss: 0.4288 - val_accuracy: 0.8597\n",
      "Epoch 104/200\n",
      "781/781 [==============================] - 76s 97ms/step - loss: 0.4675 - accuracy: 0.8439 - val_loss: 0.4415 - val_accuracy: 0.8540\n",
      "Epoch 105/200\n",
      "781/781 [==============================] - 75s 96ms/step - loss: 0.4652 - accuracy: 0.8407 - val_loss: 0.4137 - val_accuracy: 0.8620\n",
      "Epoch 106/200\n",
      "781/781 [==============================] - 76s 97ms/step - loss: 0.4749 - accuracy: 0.8386 - val_loss: 0.3864 - val_accuracy: 0.8704\n",
      "Epoch 107/200\n",
      "781/781 [==============================] - 76s 97ms/step - loss: 0.4687 - accuracy: 0.8433 - val_loss: 0.4092 - val_accuracy: 0.8659\n",
      "Epoch 108/200\n",
      "781/781 [==============================] - 75s 96ms/step - loss: 0.4665 - accuracy: 0.8423 - val_loss: 0.4065 - val_accuracy: 0.8649\n",
      "Epoch 109/200\n",
      "781/781 [==============================] - 76s 97ms/step - loss: 0.4658 - accuracy: 0.8439 - val_loss: 0.4245 - val_accuracy: 0.8606\n",
      "Epoch 110/200\n",
      "781/781 [==============================] - 75s 97ms/step - loss: 0.4581 - accuracy: 0.8460 - val_loss: 0.4485 - val_accuracy: 0.8494\n",
      "Epoch 111/200\n",
      "781/781 [==============================] - 75s 97ms/step - loss: 0.4599 - accuracy: 0.8469 - val_loss: 0.3953 - val_accuracy: 0.8684\n",
      "Epoch 112/200\n",
      "781/781 [==============================] - 75s 97ms/step - loss: 0.4541 - accuracy: 0.8438 - val_loss: 0.4219 - val_accuracy: 0.8620\n",
      "Epoch 113/200\n"
     ]
    },
    {
     "name": "stdout",
     "output_type": "stream",
     "text": [
      "781/781 [==============================] - 75s 96ms/step - loss: 0.4638 - accuracy: 0.8421 - val_loss: 0.3882 - val_accuracy: 0.8701\n",
      "Epoch 114/200\n",
      "781/781 [==============================] - 75s 96ms/step - loss: 0.4561 - accuracy: 0.8469 - val_loss: 0.4484 - val_accuracy: 0.8529\n",
      "Epoch 115/200\n",
      "781/781 [==============================] - 75s 96ms/step - loss: 0.4590 - accuracy: 0.8445 - val_loss: 0.3835 - val_accuracy: 0.8705\n",
      "Epoch 116/200\n",
      "781/781 [==============================] - 75s 96ms/step - loss: 0.4606 - accuracy: 0.8427 - val_loss: 0.4007 - val_accuracy: 0.8650\n",
      "Epoch 117/200\n",
      "781/781 [==============================] - 75s 96ms/step - loss: 0.4602 - accuracy: 0.8448 - val_loss: 0.4114 - val_accuracy: 0.8639\n",
      "Epoch 118/200\n",
      "781/781 [==============================] - 75s 96ms/step - loss: 0.4550 - accuracy: 0.8441 - val_loss: 0.3750 - val_accuracy: 0.8752\n",
      "Epoch 119/200\n",
      "781/781 [==============================] - 75s 96ms/step - loss: 0.4465 - accuracy: 0.8531 - val_loss: 0.4025 - val_accuracy: 0.8654\n",
      "Epoch 120/200\n",
      "781/781 [==============================] - 75s 96ms/step - loss: 0.4572 - accuracy: 0.8437 - val_loss: 0.4147 - val_accuracy: 0.8653\n",
      "Epoch 121/200\n",
      "781/781 [==============================] - 75s 97ms/step - loss: 0.4446 - accuracy: 0.8508 - val_loss: 0.3752 - val_accuracy: 0.8785\n",
      "Epoch 122/200\n",
      "781/781 [==============================] - 76s 97ms/step - loss: 0.4553 - accuracy: 0.8462 - val_loss: 0.4034 - val_accuracy: 0.8693\n",
      "Epoch 123/200\n",
      "781/781 [==============================] - 75s 97ms/step - loss: 0.4533 - accuracy: 0.8471 - val_loss: 0.4836 - val_accuracy: 0.8378\n",
      "Epoch 124/200\n",
      "781/781 [==============================] - 75s 96ms/step - loss: 0.4562 - accuracy: 0.8480 - val_loss: 0.4200 - val_accuracy: 0.8612\n",
      "Epoch 125/200\n",
      "781/781 [==============================] - 75s 96ms/step - loss: 0.4455 - accuracy: 0.8504 - val_loss: 0.4182 - val_accuracy: 0.8613\n",
      "Epoch 126/200\n",
      "781/781 [==============================] - 75s 97ms/step - loss: 0.4455 - accuracy: 0.8502 - val_loss: 0.4034 - val_accuracy: 0.8693\n",
      "Epoch 127/200\n",
      "781/781 [==============================] - 76s 97ms/step - loss: 0.4445 - accuracy: 0.8511 - val_loss: 0.4002 - val_accuracy: 0.8703\n",
      "Epoch 128/200\n",
      "781/781 [==============================] - 76s 97ms/step - loss: 0.4446 - accuracy: 0.8503 - val_loss: 0.3814 - val_accuracy: 0.8725\n",
      "Epoch 129/200\n",
      "781/781 [==============================] - 76s 97ms/step - loss: 0.4508 - accuracy: 0.8489 - val_loss: 0.4127 - val_accuracy: 0.8626\n",
      "Epoch 130/200\n",
      "781/781 [==============================] - 76s 97ms/step - loss: 0.4433 - accuracy: 0.8530 - val_loss: 0.4034 - val_accuracy: 0.8675\n",
      "Epoch 131/200\n",
      "781/781 [==============================] - 76s 97ms/step - loss: 0.4459 - accuracy: 0.8499 - val_loss: 0.4130 - val_accuracy: 0.8667\n",
      "Epoch 132/200\n",
      "781/781 [==============================] - 76s 97ms/step - loss: 0.4465 - accuracy: 0.8502 - val_loss: 0.4044 - val_accuracy: 0.8699\n",
      "Epoch 133/200\n",
      "781/781 [==============================] - 76s 97ms/step - loss: 0.4415 - accuracy: 0.8500 - val_loss: 0.4028 - val_accuracy: 0.8667\n",
      "Epoch 134/200\n",
      "781/781 [==============================] - 76s 97ms/step - loss: 0.4436 - accuracy: 0.8510 - val_loss: 0.4192 - val_accuracy: 0.8609\n",
      "Epoch 135/200\n",
      "781/781 [==============================] - 75s 96ms/step - loss: 0.4339 - accuracy: 0.8538 - val_loss: 0.3977 - val_accuracy: 0.8676\n",
      "Epoch 136/200\n",
      "781/781 [==============================] - 75s 97ms/step - loss: 0.4314 - accuracy: 0.8527 - val_loss: 0.4179 - val_accuracy: 0.8654\n",
      "Epoch 137/200\n",
      "781/781 [==============================] - 75s 97ms/step - loss: 0.4399 - accuracy: 0.8517 - val_loss: 0.4358 - val_accuracy: 0.8587\n",
      "Epoch 138/200\n",
      "781/781 [==============================] - 75s 96ms/step - loss: 0.4413 - accuracy: 0.8523 - val_loss: 0.4278 - val_accuracy: 0.8608\n",
      "Epoch 139/200\n",
      "781/781 [==============================] - 76s 97ms/step - loss: 0.4353 - accuracy: 0.8537 - val_loss: 0.4034 - val_accuracy: 0.8670\n",
      "Epoch 140/200\n",
      "781/781 [==============================] - 75s 97ms/step - loss: 0.4441 - accuracy: 0.8503 - val_loss: 0.4229 - val_accuracy: 0.8653\n",
      "Epoch 141/200\n",
      "781/781 [==============================] - 76s 97ms/step - loss: 0.4403 - accuracy: 0.8513 - val_loss: 0.4016 - val_accuracy: 0.8661\n",
      "Epoch 142/200\n",
      "781/781 [==============================] - 76s 97ms/step - loss: 0.4418 - accuracy: 0.8501 - val_loss: 0.4212 - val_accuracy: 0.8642\n",
      "Epoch 143/200\n",
      "781/781 [==============================] - 76s 97ms/step - loss: 0.4351 - accuracy: 0.8535 - val_loss: 0.3963 - val_accuracy: 0.8708\n",
      "Epoch 144/200\n",
      "781/781 [==============================] - 76s 97ms/step - loss: 0.4348 - accuracy: 0.8527 - val_loss: 0.5583 - val_accuracy: 0.8249\n",
      "Epoch 145/200\n",
      "781/781 [==============================] - 76s 97ms/step - loss: 0.4381 - accuracy: 0.8510 - val_loss: 0.3606 - val_accuracy: 0.8762\n",
      "Epoch 146/200\n",
      "781/781 [==============================] - 76s 97ms/step - loss: 0.4431 - accuracy: 0.8524 - val_loss: 0.3690 - val_accuracy: 0.8768\n",
      "Epoch 147/200\n",
      "781/781 [==============================] - 76s 97ms/step - loss: 0.4330 - accuracy: 0.8532 - val_loss: 0.4159 - val_accuracy: 0.8629\n",
      "Epoch 148/200\n",
      "781/781 [==============================] - 75s 97ms/step - loss: 0.4318 - accuracy: 0.8551 - val_loss: 0.3956 - val_accuracy: 0.8725\n",
      "Epoch 149/200\n",
      "781/781 [==============================] - 75s 97ms/step - loss: 0.4348 - accuracy: 0.8554 - val_loss: 0.3958 - val_accuracy: 0.8720\n",
      "Epoch 150/200\n",
      "781/781 [==============================] - 75s 97ms/step - loss: 0.4323 - accuracy: 0.8524 - val_loss: 0.3554 - val_accuracy: 0.8814\n",
      "Epoch 151/200\n",
      "781/781 [==============================] - 75s 96ms/step - loss: 0.4244 - accuracy: 0.8568 - val_loss: 0.4383 - val_accuracy: 0.8566\n",
      "Epoch 152/200\n",
      "781/781 [==============================] - 75s 96ms/step - loss: 0.4312 - accuracy: 0.8515 - val_loss: 0.3588 - val_accuracy: 0.8813\n",
      "Epoch 153/200\n",
      "781/781 [==============================] - 75s 96ms/step - loss: 0.4267 - accuracy: 0.8575 - val_loss: 0.3942 - val_accuracy: 0.8686\n",
      "Epoch 154/200\n",
      "781/781 [==============================] - 75s 96ms/step - loss: 0.4290 - accuracy: 0.8553 - val_loss: 0.3976 - val_accuracy: 0.8697\n",
      "Epoch 155/200\n",
      "781/781 [==============================] - 76s 97ms/step - loss: 0.4228 - accuracy: 0.8552 - val_loss: 0.4561 - val_accuracy: 0.8546\n",
      "Epoch 156/200\n",
      "781/781 [==============================] - 76s 97ms/step - loss: 0.4245 - accuracy: 0.8556 - val_loss: 0.3661 - val_accuracy: 0.8754\n",
      "Epoch 157/200\n",
      "781/781 [==============================] - 76s 97ms/step - loss: 0.4319 - accuracy: 0.8527 - val_loss: 0.3578 - val_accuracy: 0.8794\n",
      "Epoch 158/200\n",
      "781/781 [==============================] - 76s 97ms/step - loss: 0.4193 - accuracy: 0.8579 - val_loss: 0.3884 - val_accuracy: 0.8723\n",
      "Epoch 159/200\n",
      "781/781 [==============================] - 75s 96ms/step - loss: 0.4242 - accuracy: 0.8571 - val_loss: 0.3971 - val_accuracy: 0.8688\n",
      "Epoch 160/200\n",
      "781/781 [==============================] - 75s 96ms/step - loss: 0.4277 - accuracy: 0.8570 - val_loss: 0.3837 - val_accuracy: 0.8767\n",
      "Epoch 161/200\n",
      "781/781 [==============================] - 75s 97ms/step - loss: 0.4254 - accuracy: 0.8574 - val_loss: 0.4400 - val_accuracy: 0.8571\n",
      "Epoch 162/200\n",
      "781/781 [==============================] - 75s 96ms/step - loss: 0.4276 - accuracy: 0.8540 - val_loss: 0.3661 - val_accuracy: 0.8811\n",
      "Epoch 163/200\n",
      "781/781 [==============================] - 76s 97ms/step - loss: 0.4139 - accuracy: 0.8587 - val_loss: 0.3759 - val_accuracy: 0.8753\n",
      "Epoch 164/200\n",
      "781/781 [==============================] - 75s 96ms/step - loss: 0.4260 - accuracy: 0.8592 - val_loss: 0.3636 - val_accuracy: 0.8800\n",
      "Epoch 165/200\n",
      "781/781 [==============================] - 75s 96ms/step - loss: 0.4165 - accuracy: 0.8612 - val_loss: 0.3820 - val_accuracy: 0.8726\n",
      "Epoch 166/200\n",
      "781/781 [==============================] - 75s 96ms/step - loss: 0.4171 - accuracy: 0.8590 - val_loss: 0.3693 - val_accuracy: 0.8807\n",
      "Epoch 167/200\n",
      "781/781 [==============================] - 75s 95ms/step - loss: 0.4185 - accuracy: 0.8589 - val_loss: 0.3613 - val_accuracy: 0.8783\n",
      "Epoch 168/200\n",
      "781/781 [==============================] - 75s 96ms/step - loss: 0.4095 - accuracy: 0.8626 - val_loss: 0.3815 - val_accuracy: 0.8740\n"
     ]
    },
    {
     "name": "stdout",
     "output_type": "stream",
     "text": [
      "Epoch 169/200\n",
      "781/781 [==============================] - 75s 96ms/step - loss: 0.4216 - accuracy: 0.8588 - val_loss: 0.3760 - val_accuracy: 0.8762\n",
      "Epoch 170/200\n",
      "781/781 [==============================] - 75s 96ms/step - loss: 0.4174 - accuracy: 0.8606 - val_loss: 0.3603 - val_accuracy: 0.8798\n",
      "Epoch 171/200\n",
      "781/781 [==============================] - 75s 96ms/step - loss: 0.4220 - accuracy: 0.8548 - val_loss: 0.3834 - val_accuracy: 0.8729\n",
      "Epoch 172/200\n",
      "781/781 [==============================] - 75s 96ms/step - loss: 0.4109 - accuracy: 0.8618 - val_loss: 0.4005 - val_accuracy: 0.8702\n",
      "Epoch 173/200\n",
      "781/781 [==============================] - 75s 96ms/step - loss: 0.4169 - accuracy: 0.8599 - val_loss: 0.3584 - val_accuracy: 0.8795\n",
      "Epoch 174/200\n",
      "781/781 [==============================] - 75s 96ms/step - loss: 0.4174 - accuracy: 0.8589 - val_loss: 0.3634 - val_accuracy: 0.8784\n",
      "Epoch 175/200\n",
      "781/781 [==============================] - 75s 96ms/step - loss: 0.4095 - accuracy: 0.8607 - val_loss: 0.3721 - val_accuracy: 0.8773\n",
      "Epoch 176/200\n",
      "781/781 [==============================] - 75s 96ms/step - loss: 0.4117 - accuracy: 0.8583 - val_loss: 0.3860 - val_accuracy: 0.8731\n",
      "Epoch 177/200\n",
      "781/781 [==============================] - 75s 96ms/step - loss: 0.4116 - accuracy: 0.8621 - val_loss: 0.3715 - val_accuracy: 0.8763\n",
      "Epoch 178/200\n",
      "781/781 [==============================] - 75s 96ms/step - loss: 0.4114 - accuracy: 0.8603 - val_loss: 0.4056 - val_accuracy: 0.8695\n",
      "Epoch 179/200\n",
      "781/781 [==============================] - 75s 96ms/step - loss: 0.4097 - accuracy: 0.8612 - val_loss: 0.4070 - val_accuracy: 0.8664\n",
      "Epoch 180/200\n",
      "781/781 [==============================] - 75s 96ms/step - loss: 0.4202 - accuracy: 0.8587 - val_loss: 0.3413 - val_accuracy: 0.8854\n",
      "Epoch 181/200\n",
      "781/781 [==============================] - 75s 96ms/step - loss: 0.4199 - accuracy: 0.8588 - val_loss: 0.3977 - val_accuracy: 0.8724\n",
      "Epoch 182/200\n",
      "781/781 [==============================] - 75s 97ms/step - loss: 0.4193 - accuracy: 0.8585 - val_loss: 0.3455 - val_accuracy: 0.8855\n",
      "Epoch 183/200\n",
      "781/781 [==============================] - 75s 96ms/step - loss: 0.4146 - accuracy: 0.8599 - val_loss: 0.3583 - val_accuracy: 0.8812\n",
      "Epoch 184/200\n",
      "781/781 [==============================] - 75s 96ms/step - loss: 0.4241 - accuracy: 0.8547 - val_loss: 0.4028 - val_accuracy: 0.8696\n",
      "Epoch 185/200\n",
      "781/781 [==============================] - 75s 96ms/step - loss: 0.4055 - accuracy: 0.8620 - val_loss: 0.3825 - val_accuracy: 0.8761\n",
      "Epoch 186/200\n",
      "781/781 [==============================] - 76s 97ms/step - loss: 0.4140 - accuracy: 0.8631 - val_loss: 0.3839 - val_accuracy: 0.8756\n",
      "Epoch 187/200\n",
      "781/781 [==============================] - 75s 96ms/step - loss: 0.4170 - accuracy: 0.8575 - val_loss: 0.3800 - val_accuracy: 0.8776\n",
      "Epoch 188/200\n",
      "781/781 [==============================] - 75s 96ms/step - loss: 0.4012 - accuracy: 0.8644 - val_loss: 0.4183 - val_accuracy: 0.8636\n",
      "Epoch 189/200\n",
      "781/781 [==============================] - 75s 96ms/step - loss: 0.4112 - accuracy: 0.8609 - val_loss: 0.3713 - val_accuracy: 0.8792\n",
      "Epoch 190/200\n",
      "781/781 [==============================] - 75s 96ms/step - loss: 0.4124 - accuracy: 0.8630 - val_loss: 0.3649 - val_accuracy: 0.8785\n",
      "Epoch 191/200\n",
      "781/781 [==============================] - 75s 96ms/step - loss: 0.4028 - accuracy: 0.8632 - val_loss: 0.3638 - val_accuracy: 0.8803\n",
      "Epoch 192/200\n",
      "781/781 [==============================] - 75s 96ms/step - loss: 0.4036 - accuracy: 0.8645 - val_loss: 0.3613 - val_accuracy: 0.8811\n",
      "Epoch 193/200\n",
      "781/781 [==============================] - 75s 96ms/step - loss: 0.4165 - accuracy: 0.8577 - val_loss: 0.4047 - val_accuracy: 0.8661\n",
      "Epoch 194/200\n",
      "781/781 [==============================] - 75s 96ms/step - loss: 0.4118 - accuracy: 0.8621 - val_loss: 0.3861 - val_accuracy: 0.8721\n",
      "Epoch 195/200\n",
      "781/781 [==============================] - 75s 96ms/step - loss: 0.4052 - accuracy: 0.8628 - val_loss: 0.4068 - val_accuracy: 0.8698\n",
      "Epoch 196/200\n",
      "781/781 [==============================] - 75s 96ms/step - loss: 0.4035 - accuracy: 0.8609 - val_loss: 0.3681 - val_accuracy: 0.8803\n",
      "Epoch 197/200\n",
      "781/781 [==============================] - 75s 97ms/step - loss: 0.4006 - accuracy: 0.8641 - val_loss: 0.4310 - val_accuracy: 0.8602\n",
      "Epoch 198/200\n",
      "781/781 [==============================] - 75s 96ms/step - loss: 0.4058 - accuracy: 0.8620 - val_loss: 0.3839 - val_accuracy: 0.8743\n",
      "Epoch 199/200\n",
      "781/781 [==============================] - 75s 97ms/step - loss: 0.4040 - accuracy: 0.8626 - val_loss: 0.3546 - val_accuracy: 0.8836\n",
      "Epoch 200/200\n",
      "781/781 [==============================] - 75s 97ms/step - loss: 0.4076 - accuracy: 0.8621 - val_loss: 0.4228 - val_accuracy: 0.8643\n"
     ]
    }
   ],
   "source": [
    "history6=model6.fit_generator(it_train,epochs=200,steps_per_epoch=steps,validation_data=(x_test,y_test_cat))"
   ]
  },
  {
   "cell_type": "code",
   "execution_count": 36,
   "metadata": {},
   "outputs": [
    {
     "name": "stdout",
     "output_type": "stream",
     "text": [
      "313/313 [==============================] - 7s 21ms/step - loss: 0.4228 - accuracy: 0.8643\n",
      "Test Accuracy: 0.864300012588501\n"
     ]
    }
   ],
   "source": [
    "evaluation = model6.evaluate(x_test, y_test_cat)\n",
    "print('Test Accuracy: {}'.format(evaluation[1]))"
   ]
  },
  {
   "cell_type": "markdown",
   "metadata": {},
   "source": [
    "По данным результатам аугментация изображения не принесла ожидаемого эффекта. Возможно следует увеличить количество эпох или уменьшить значения аугментации. В общем есть смысл поэксперементировать, чтобы увеличить точность нашей модели."
   ]
  }
 ],
 "metadata": {
  "colab": {
   "history_visible": true,
   "provenance": []
  },
  "kernelspec": {
   "display_name": "Python 3 (ipykernel)",
   "language": "python",
   "name": "python3"
  },
  "language_info": {
   "codemirror_mode": {
    "name": "ipython",
    "version": 3
   },
   "file_extension": ".py",
   "mimetype": "text/x-python",
   "name": "python",
   "nbconvert_exporter": "python",
   "pygments_lexer": "ipython3",
   "version": "3.9.13"
  }
 },
 "nbformat": 4,
 "nbformat_minor": 1
}
