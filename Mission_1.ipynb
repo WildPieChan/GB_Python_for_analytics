{
 "cells": [
  {
   "cell_type": "markdown",
   "id": "2ef19568",
   "metadata": {},
   "source": [
    "# Домашнее задание"
   ]
  },
  {
   "cell_type": "markdown",
   "id": "60b5be9b",
   "metadata": {},
   "source": [
    "## Задача 1\n",
    "На складе лежат разные фрукты в разном количестве.\n",
    "Нужно написать функцию, которая на вход принимает любое количество названий фруктов и их количество, а возвращает общее количество фруктов на складе."
   ]
  },
  {
   "cell_type": "code",
   "execution_count": 14,
   "id": "4858944e",
   "metadata": {},
   "outputs": [],
   "source": [
    "def fruits_count_from_list(storage_info):\n",
    "    return sum(a[1] for a in storage_info)"
   ]
  },
  {
   "cell_type": "code",
   "execution_count": 15,
   "id": "b7913e8f",
   "metadata": {},
   "outputs": [
    {
     "data": {
      "text/plain": [
       "50"
      ]
     },
     "execution_count": 15,
     "metadata": {},
     "output_type": "execute_result"
    }
   ],
   "source": [
    "storage_list = [('apples', 32), ('bananas', 18)]\n",
    "fruits_count_from_list(storage_list)"
   ]
  },
  {
   "cell_type": "code",
   "execution_count": 23,
   "id": "ca325218",
   "metadata": {},
   "outputs": [],
   "source": [
    "def fruits_count_from_dict(storage_info):\n",
    "    return sum(storage_info.values())"
   ]
  },
  {
   "cell_type": "code",
   "execution_count": 24,
   "id": "cb868a01",
   "metadata": {},
   "outputs": [
    {
     "data": {
      "text/plain": [
       "66"
      ]
     },
     "execution_count": 24,
     "metadata": {},
     "output_type": "execute_result"
    }
   ],
   "source": [
    "storage_dict = {'apples': 55, 'bananas': 11}\n",
    "fruits_count_from_dict(storage_dict)"
   ]
  },
  {
   "cell_type": "markdown",
   "id": "9a228508",
   "metadata": {},
   "source": [
    "## Задача 2\n",
    "Дан список с затратами на рекламу. Но в данных есть ошибки, некоторые затраты имеют отрицательную величину. Удалите такие значения из списка и посчитайте суммарные затраты. <br>\n",
    "<br> [100, 125, -90, 345, 655, -1, 0, 200] <br>\n",
    "<br> Используйте list comprehensions. <br> "
   ]
  },
  {
   "cell_type": "code",
   "execution_count": 28,
   "id": "ade74e11",
   "metadata": {},
   "outputs": [
    {
     "name": "stdout",
     "output_type": "stream",
     "text": [
      "Суммарные затраты на рекламу: 1425\n"
     ]
    }
   ],
   "source": [
    "costs = [100, 125, -90, 345, 655, -1, 0, 200]\n",
    "result = [num for num in costs if num >= 0]\n",
    "print(f'Суммарные затраты на рекламу: {sum(result)}')"
   ]
  },
  {
   "cell_type": "markdown",
   "id": "f6e9b8f2",
   "metadata": {},
   "source": [
    "## Задача 3\n",
    "Даны два списка. <br>\n",
    "<br> Дата покупки: <br>\n",
    "<br> ['2021-09-14', '2021-12-15', '2021-09-08', '2021-12-05', '2021-10-09', '2021-09-30', '2021-12-22', '2021-11-29', '2021-12-24', '2021-11-26', '2021-10-27', '2021-12-18', '2021-11-09', '2021-11-23', '2021-09-27', '2021-10-02', '2021-12-27', '2021-09-20', '2021-12-13', '2021-11-01', '2021-11-09', '2021-12-06', '2021-12-08', '2021-10-09', '2021-10-31', '2021-09-30', '2021-11-09', '2021-12-13', '2021-10-26', '2021-12-09'] <br>\n",
    "<br> Суммы покупок по датам: <br> \n",
    "<br> [1270, 8413, 9028, 3703, 5739, 4095, 295, 4944, 5723, 3701, 4471, 651, 7037, 4274, 6275, 4988, 6930, 2971, 6592, 2004, 2822, 519, 3406, 2732, 5015, 2008, 316, 6333, 5700, 2887] <br>"
   ]
  },
  {
   "cell_type": "markdown",
   "id": "71bac11d",
   "metadata": {},
   "source": [
    "### 3.1 Найдите, какая выручка у компании в ноябре\n",
    "Используйте list comprehensions."
   ]
  },
  {
   "cell_type": "code",
   "execution_count": 35,
   "id": "d0a10df9",
   "metadata": {},
   "outputs": [],
   "source": [
    "def get_tuple_list(date: list, amount: list) -> list:\n",
    "    return ((date[i], amount[i]) for i in range(len(date)))"
   ]
  },
  {
   "cell_type": "code",
   "execution_count": 36,
   "id": "2cc52e2a",
   "metadata": {},
   "outputs": [],
   "source": [
    "date_of_purchase = ['2021-09-14', '2021-12-15', '2021-09-08', '2021-12-05', '2021-10-09', '2021-09-30', '2021-12-22', '2021-11-29', '2021-12-24', '2021-11-26', '2021-10-27', '2021-12-18', '2021-11-09', '2021-11-23', '2021-09-27', '2021-10-02', '2021-12-27', '2021-09-20', '2021-12-13', '2021-11-01', '2021-11-09', '2021-12-06', '2021-12-08', '2021-10-09', '2021-10-31', '2021-09-30', '2021-11-09', '2021-12-13', '2021-10-26', '2021-12-09']\n",
    "purchase_amounts_by_date = [1270, 8413, 9028, 3703, 5739, 4095, 295, 4944, 5723, 3701, 4471, 651, 7037, 4274, 6275, 4988, 6930, 2971, 6592, 2004, 2822, 519, 3406, 2732, 5015, 2008, 316, 6333, 5700, 2887]"
   ]
  },
  {
   "cell_type": "code",
   "execution_count": 42,
   "id": "138c7817",
   "metadata": {},
   "outputs": [
    {
     "name": "stdout",
     "output_type": "stream",
     "text": [
      "Выручка компании в ноябре: 25098\n"
     ]
    }
   ],
   "source": [
    "result_list = get_tuple_list(date_of_purchase, purchase_amounts_by_date)\n",
    "print(f'Выручка компании в ноябре: {sum(a[1] for a in result_list if \"-11-\" in a[0])}')"
   ]
  },
  {
   "cell_type": "markdown",
   "id": "28f97a23",
   "metadata": {},
   "source": [
    "### 3.2 Найдите выручку компании в зависимости от месяца\n",
    "Для этого напишите функцию, которая на вход принимает список с датами и список с выручкой, а на выходе словарь, где ключи - это месяцы, а значения - это выручка. <br>\n",
    "<br> Используйте аннотирование типов."
   ]
  },
  {
   "cell_type": "code",
   "execution_count": 47,
   "id": "4e2778e2",
   "metadata": {},
   "outputs": [
    {
     "data": {
      "text/plain": [
       "{'09': 25647, '12': 45452, '10': 28645, '11': 25098}"
      ]
     },
     "execution_count": 47,
     "metadata": {},
     "output_type": "execute_result"
    }
   ],
   "source": [
    "def sum_in_month(date: list, money: list) -> dict:\n",
    "    res = {}\n",
    "    for d, m in zip(date, money):\n",
    "        if d[5:7] in res.keys():\n",
    "            res[d[5:7]] = res[d[5:7]] + m\n",
    "        else:\n",
    "            res[d[5:7]] = m\n",
    "    return res\n",
    " \n",
    "sum_in_month(date_of_purchase, purchase_amounts_by_date)"
   ]
  }
 ],
 "metadata": {
  "kernelspec": {
   "display_name": "Python 3 (ipykernel)",
   "language": "python",
   "name": "python3"
  },
  "language_info": {
   "codemirror_mode": {
    "name": "ipython",
    "version": 3
   },
   "file_extension": ".py",
   "mimetype": "text/x-python",
   "name": "python",
   "nbconvert_exporter": "python",
   "pygments_lexer": "ipython3",
   "version": "3.9.13"
  }
 },
 "nbformat": 4,
 "nbformat_minor": 5
}
